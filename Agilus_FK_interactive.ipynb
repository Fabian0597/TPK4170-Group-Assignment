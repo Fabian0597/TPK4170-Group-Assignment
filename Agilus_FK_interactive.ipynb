{
 "cells": [
  {
   "cell_type": "markdown",
   "metadata": {},
   "source": [
    "# Forward Kinematics with Denavit-Hartenberg"
   ]
  },
  {
   "cell_type": "code",
   "execution_count": 1,
   "metadata": {},
   "outputs": [],
   "source": [
    "import numpy as np\n",
    "\n",
    "# The 4 D-H parameters\n",
    "class DHparam:\n",
    "    def __init__(self, d, theta, a, alpha):\n",
    "        self.d = d\n",
    "        self.theta = theta\n",
    "        self.a = a\n",
    "        self.alpha = alpha\n",
    "\n",
    "# Get the change-of-frame matrix corresponding to a set of D-H parameters\n",
    "def dh_to_matrix(dh):\n",
    "    c_theta = np.cos(dh.theta)\n",
    "    s_theta = np.sin(dh.theta)\n",
    "    c_alpha = np.cos(dh.alpha)\n",
    "    s_alpha = np.sin(dh.alpha)\n",
    "\n",
    "    return np.array([\n",
    "        [   c_theta,    -s_theta*c_alpha,   s_theta*s_alpha,    dh.a*c_theta  ],\n",
    "        [   s_theta,    c_theta*c_alpha,    -c_theta*s_alpha,   dh.a*s_theta  ],\n",
    "        [   0,          s_alpha,            c_alpha,            dh.d          ],\n",
    "        [   0,          0,                  0,                  1             ],\n",
    "    ])\n",
    "\n",
    "# Solves the forward kinemetics in D-H conventions, returns the frames and transformations for each link\n",
    "def fk_dh(dh_params, frames_at_rest):\n",
    "    # Get the number of links\n",
    "    assert(len(dh_params) == len(frames_at_rest)-1)\n",
    "    joints = range(len(dh_params))\n",
    "    links = range(len(dh_params) + 1)\n",
    "\n",
    "    # Compute the frames along the chain\n",
    "    frames = [np.eye(4) for i in links]\n",
    "    for i in joints:\n",
    "        dh_matrix = dh_to_matrix(dh_params[i])\n",
    "        frames[i+1] = frames[i] @ dh_matrix\n",
    "\n",
    "    # Compute the transforms along the chain\n",
    "    transforms = [frames[i] @ np.linalg.inv(frames_at_rest[i]) for i in links]\n",
    "\n",
    "    return (frames, transforms)"
   ]
  },
  {
   "cell_type": "markdown",
   "metadata": {},
   "source": [
    "# Forward Kinematics with Power-of-Exponential"
   ]
  },
  {
   "cell_type": "code",
   "execution_count": 2,
   "metadata": {},
   "outputs": [],
   "source": [
    "import modern_robotics as mr\n",
    "\n",
    "# Solves the forward kinemetics in PoE conventions, returns the frames and transformations for each link\n",
    "def fk_poe(screw_axes, screw_angles, frames_at_rest):\n",
    "    # Get the number of links\n",
    "    assert(len(screw_axes) == len(screw_angles) == len(frames_at_rest)-1)\n",
    "    joints = range(len(screw_angles))\n",
    "    links = range(len(screw_angles) + 1)\n",
    "\n",
    "    # Compute the transformations along the chain\n",
    "    transforms = [np.eye(4) for i in links]\n",
    "    for i in joints:\n",
    "        exp_screw_axis_angle = mr.MatrixExp6(mr.VecTose3(screw_axes[i] * screw_angles[i]))\n",
    "        transforms[i+1] = transforms[i] @ exp_screw_axis_angle\n",
    "    \n",
    "    # Compute the frames along the chain\n",
    "    frames = [transforms[i] @ frames_at_rest[i] for i in links]\n",
    "\n",
    "    return (frames, transforms)"
   ]
  },
  {
   "cell_type": "markdown",
   "metadata": {},
   "source": [
    "# Testing the forward kinematics\n",
    "## Initializing the parameters"
   ]
  },
  {
   "cell_type": "code",
   "execution_count": 3,
   "metadata": {},
   "outputs": [],
   "source": [
    "# Unit of distance = 1 m\n",
    "H1 = 400e-3\n",
    "H3 = 35e-3\n",
    "L1 = 25e-3\n",
    "L2 = 455e-3\n",
    "L3 = 420e-3\n",
    "L4 = 80e-3\n",
    "\n",
    "num_links = 7\n",
    "num_joints = 6\n",
    "\n",
    "# The joints will be refered to with an index from 0 to 5 instead of 1 to 6. Deal with it\n",
    "dh_params = [\n",
    "    DHparam(-H1,    0,          L1, np.pi/2 ), # Frame 0 to 1\n",
    "    DHparam(0,      0,          L2, 0       ), # Frame 1 to 2\n",
    "    DHparam(0,      -np.pi/2,   H3, np.pi/2 ), # Frame 2 to 3\n",
    "    DHparam(-L3,    0,          0,  -np.pi/2), # Frame 3 to 4\n",
    "    DHparam(0,      0,          0,  np.pi/2 ), # Frame 4 to 5\n",
    "    DHparam(-L4,    0,          0,  0       ), # Frame 5 to 6\n",
    "]\n",
    "\n",
    "# Screw axes in frame 0 (global) for joints 1 to 6\n",
    "screw_axes = [\n",
    "    np.array([  0,  0,  1,  0,      0,      0,          ]), # S_1\n",
    "    np.array([  0,  -1, 0,  -H1,    0,      -L1,        ]), # S_2\n",
    "    np.array([  0,  -1, 0,  -H1,    0,      -L1-L2,     ]), # S_3\n",
    "    np.array([  -1, 0,  0,  0,      H1+H3,  0,          ]), # S_4\n",
    "    np.array([  0,  -1, 0,  -H1-H3, 0,      -L1-L2-L3   ]), # S_5\n",
    "    np.array([  -1, 0,  0,  0,      H1+H3,  0,          ]), # S_6\n",
    "]\n",
    "\n",
    "# Frames 0 to 6 in the DH convention at resting position (when all joints are 0)\n",
    "frames_at_rest = [\n",
    "    np.eye(4), # M_0\n",
    "    np.array([[1, 0, 0, L1],            [0, 0, -1, 0],  [0, 1, 0, -H1],     [0, 0, 0, 1]]), # M_1\n",
    "    np.array([[1, 0, 0, L1+L2],         [0, 0, -1, 0],  [0, 1, 0, -H1],     [0, 0, 0, 1]]), # M_2\n",
    "    np.array([[0, 0, -1, L1+L2],        [0, -1, 0, 0],  [-1, 0, 0, -H1-H3], [0, 0, 0, 1]]), # M_3\n",
    "    np.array([[0, 1, 0, L1+L2+L3],      [0, 0, -1, 0],  [-1, 0, 0, -H1-H3], [0, 0, 0, 1]]), # M_4\n",
    "    np.array([[0, 0, -1, L1+L2+L3],     [0, -1, 0, 0],  [-1, 0, 0, -H1-H3], [0, 0, 0, 1]]), # M_5\n",
    "    np.array([[0, 0, -1, L1+L2+L3+L4],  [0, -1, 0, 0],  [-1, 0, 0, -H1-H3], [0, 0, 0, 1]]), # M_6 = M\n",
    "]"
   ]
  },
  {
   "cell_type": "markdown",
   "metadata": {},
   "source": [
    "## Visualizing"
   ]
  },
  {
   "cell_type": "code",
   "execution_count": 4,
   "metadata": {},
   "outputs": [
    {
     "name": "stderr",
     "output_type": "stream",
     "text": [
      "C:\\Users\\antho\\AppData\\Local\\Programs\\Python\\Python39\\lib\\site-packages\\jupyter_client\\session.py:716: UserWarning: Message serialization failed with:\n",
      "Out of range float values are not JSON compliant\n",
      "Supporting this message is deprecated in jupyter-client 7, please make sure your message is JSON-compliant\n",
      "  content = self.pack(content)\n"
     ]
    }
   ],
   "source": [
    "import robot_scene\n",
    "\n",
    "# Create the scene objects\n",
    "scene = robot_scene.create_scene()"
   ]
  },
  {
   "cell_type": "code",
   "execution_count": 5,
   "metadata": {},
   "outputs": [
    {
     "data": {
      "application/vnd.jupyter.widget-view+json": {
       "model_id": "75b0ecf9f90146b9bc734696c0512da2",
       "version_major": 2,
       "version_minor": 0
      },
      "text/plain": [
       "HBox(children=(Renderer(camera=PerspectiveCamera(children=(DirectionalLight(color='white', intensity=0.5, posi…"
      ]
     },
     "metadata": {},
     "output_type": "display_data"
    }
   ],
   "source": [
    "from IPython.display import display\n",
    "import ipywidgets\n",
    "\n",
    "# Update the links transforms\n",
    "def show_robot(scene, transforms, must_show):\n",
    "    for (link, transform) in zip(scene.links, transforms):\n",
    "        link.matrix = transform.flatten(order=\"F\").tolist()\n",
    "        link.visible = must_show\n",
    "\n",
    "# Update the frames transforms\n",
    "def show_frames(scene, frames, must_show):\n",
    "    for (trihedron, frame) in zip(scene.trihedron, frames):\n",
    "        trihedron.matrix = frame.flatten(order=\"F\").tolist()\n",
    "        trihedron.visible = must_show\n",
    "\n",
    "# Update the screw axes\n",
    "def show_axes(scene, frames, must_show):\n",
    "    for (axis, frame) in zip(scene.axes, frames):\n",
    "        axis.matrix = frame.flatten(order=\"F\").tolist()\n",
    "        axis.visible = must_show\n",
    "        \n",
    "# Interaction loop\n",
    "def interact_fk(mode, j1, j2, j3, j4, j5, j6, must_show_robot, must_show_frames, must_show_axes):\n",
    "    joint_angles = np.radians([j1, j2, j3, j4, j5, j6])\n",
    "    \n",
    "    # Do the forward kinematics in D-H conventions\n",
    "    if mode == \"fk_dh\" or mode == \"compare\":\n",
    "        updated_dh = [DHparam(x.d, x.theta+j, x.a, x.alpha) for (x, j) in zip(dh_params, joint_angles)]\n",
    "        (frames, transforms) = (frames_dh, transforms_dh) = fk_dh(updated_dh, frames_at_rest)\n",
    "    \n",
    "    # Do the forward kinematics in PoE conventions\n",
    "    if mode == \"fk_poe\" or mode == \"compare\":\n",
    "        (frames, transforms) = (frames_poe, transforms_poe) = fk_poe(screw_axes, joint_angles, frames_at_rest)\n",
    "    \n",
    "    # Do both and compare\n",
    "    if mode == \"compare\":\n",
    "        print(\"PoE and DH similar:\", np.allclose(frames_dh[-1], frames_poe[-1]))\n",
    "        \n",
    "    # Update the scene\n",
    "    print(\"End effector:\\n\", frames[-1])\n",
    "    show_robot(scene, transforms, must_show_robot)\n",
    "    show_frames(scene, frames, must_show_frames)\n",
    "    show_axes(scene, frames, must_show_axes)\n",
    "\n",
    "# Start the interaction\n",
    "interactive = ipywidgets.interactive(\n",
    "    interact_fk,\n",
    "    mode=ipywidgets.ToggleButtons(options=[\"fk_poe\", \"fk_dh\", \"compare\"]),\n",
    "    j1=ipywidgets.IntSlider(description=\"J1 (°)\", min=-180, max=180, step=1, value=0),\n",
    "    j2=ipywidgets.IntSlider(description=\"J2 (°)\", min=-180, max=180, step=1, value=0),\n",
    "    j3=ipywidgets.IntSlider(description=\"J3 (°)\", min=-180, max=180, step=1, value=0),\n",
    "    j4=ipywidgets.IntSlider(description=\"J4 (°)\", min=-180, max=180, step=1, value=0),\n",
    "    j5=ipywidgets.IntSlider(description=\"J5 (°)\", min=-180, max=180, step=1, value=0),\n",
    "    j6=ipywidgets.IntSlider(description=\"J6 (°)\", min=-180, max=180, step=1, value=0),\n",
    "    must_show_robot=ipywidgets.Checkbox(description=\"Show Robot\", value=True),\n",
    "    must_show_frames=ipywidgets.Checkbox(description=\"Show Frames\", value=False),\n",
    "    must_show_axes=ipywidgets.Checkbox(description=\"Show Axes\", value=False),\n",
    ")\n",
    "\n",
    "display(ipywidgets.HBox([\n",
    "    scene.viewer.renderer,\n",
    "    ipywidgets.VBox(interactive.children)\n",
    "]))"
   ]
  },
  {
   "cell_type": "markdown",
   "metadata": {},
   "source": [
    "# Testing the inverse kinematics\n",
    "## Analytic IK"
   ]
  },
  {
   "cell_type": "code",
   "execution_count": 6,
   "metadata": {},
   "outputs": [
    {
     "data": {
      "text/plain": [
       "([0.8110335719191258,\n",
       "  -0.03355247677107365,\n",
       "  1.5158581132113476,\n",
       "  -2.3286016483044136,\n",
       "  -1.631702378813191,\n",
       "  -3.0773574620378215],\n",
       " [0.8110335719191258,\n",
       "  1.3325454203501432,\n",
       "  -1.349575649434465,\n",
       "  -1.5546198023739006,\n",
       "  -2.330421330379375,\n",
       "  -1.5473083863605868])"
      ]
     },
     "execution_count": 6,
     "metadata": {},
     "output_type": "execute_result"
    }
   ],
   "source": [
    "# ref: https://www.geometrictools.com/Documentation/EulerAngles.pdf\n",
    "def negXYX_EulerAngles(r11, r12, r13, r21, r22, r23, r31):\n",
    "    if (r11 < 1):\n",
    "        if (r11 > -1):\n",
    "            thetaX0 = np.arctan2(r21, -r31) \n",
    "            thetaY = np.arccos(r11) \n",
    "            thetaX1 = np.arctan2(r12,r13)\n",
    "        else: # r11 = −1 \n",
    "            # Not a unique solution: thetaX1 − thetaX0 = atan2(−r12,r11) \n",
    "            thetaX0 = -np.arctan2(-r23,r22);\n",
    "            thetaY = np.pi\n",
    "            thetaX1 = 0\n",
    "    else: #r11 = 1 \n",
    "        #Not a unique solution: thetaX1 + thetaX0 = atan2(−r12,r11) \n",
    "        thetaX0 = np.arctan2(-r23,r22)\n",
    "        thetaY = 0\n",
    "        thetaX1 = 0\n",
    "        \n",
    "    return -thetaX0, -thetaY, -thetaX1\n",
    "\n",
    "# Get the orientation of the wrist from the angles theta1, theta2 and theta3\n",
    "def arm_fk(theta1, theta2, theta3):\n",
    "    c_theta1 = np.cos(theta1)\n",
    "    s_theta1 = np.sin(theta1)\n",
    "    R1 = np.array([[c_theta1, -s_theta1, 0], \n",
    "                   [s_theta1,  c_theta1, 0], \n",
    "                   [    0   ,     0    , 1]])\n",
    "    \n",
    "    c_theta2 = np.cos(theta2)\n",
    "    s_theta2 = np.sin(theta2)\n",
    "    R2 = np.array([[c_theta2,  0, s_theta2], \n",
    "                   [    0   ,  1,     0   ], \n",
    "                   [-s_theta2, 0, c_theta2]])\n",
    "    \n",
    "    c_theta3 = np.cos(theta3)\n",
    "    s_theta3 = np.sin(theta3)\n",
    "    R3 = np.array([[c_theta3,  0, s_theta3], \n",
    "                   [    0,     1,     0   ], \n",
    "                   [-s_theta3, 0, c_theta3]])\n",
    "    \n",
    "    return R1 @ R2 @ R3\n",
    "\n",
    "def ik_analytic(end_effector_frame):\n",
    "    # Extract the desired point P and pose R\n",
    "    R = end_effector_frame[0:3, 0:3]\n",
    "    P = end_effector_frame[0:3, 3]\n",
    "    \n",
    "    # W = wrist center\n",
    "    Wx = P[0] + L4*R[0, 2] # Wrist center is translated l4 along the z-axis from the desired pose\n",
    "    Wy = P[1] + L4*R[1, 2] # <-- I CHANGED SIGNS HERE\n",
    "    Wz = -P[2] - L4*R[2, 2]\n",
    "        \n",
    "    # Found theta 1\n",
    "    theta1 = np.arctan2(Wy, Wx)\n",
    "    \n",
    "    R2 = np.hypot(Wx, Wy) - L1\n",
    "    Z2 = Wz - H1\n",
    "    C2 = np.hypot(R2, Z2)\n",
    "    C3 = np.hypot(L3, H3)\n",
    "    phi1 = np.arctan(H3 / L3)\n",
    "    phi2 = np.pi - np.arccos((L2**2 - C2**2 + C3**2) / (2*L2*C3))\n",
    "    R3 = C3 * np.cos(phi2)\n",
    "    Z3 = C3 * np.sin(phi2)\n",
    "    gamma = np.arctan2(Z2, R2)\n",
    "    alpha = np.arctan2(Z3, L2 + R3)\n",
    "    M = np.array([[0, 0, -1], [0, -1, 0], [-1, 0, 0]])\n",
    "    \n",
    "    # Elbow up solution\n",
    "    theta2_u = gamma + alpha\n",
    "    theta3_u = -phi1 - phi2\n",
    "    \n",
    "    # Wrist rotation\n",
    "    wrist_rotation = arm_fk(theta1, theta2_u, theta3_u).T @ R @ M.T\n",
    "    theta4_u, theta5_u, theta6_u = negXYX_EulerAngles(wrist_rotation[0, 0], wrist_rotation[0, 1], wrist_rotation[0, 2],\n",
    "                                                  wrist_rotation[1, 0], wrist_rotation[1, 1], wrist_rotation[1, 2],\n",
    "                                                  wrist_rotation[2, 0])\n",
    "    \n",
    "    # Elbow down solution\n",
    "    theta2_d = gamma - alpha\n",
    "    theta3_d = -phi1 + phi2\n",
    "    \n",
    "    # Wrist rotation\n",
    "    wrist_rotation = (M @ R.T @ arm_fk(theta1, theta2_d, theta3_d)).T\n",
    "    theta4_d, theta5_d, theta6_d = negXYX_EulerAngles(wrist_rotation[0, 0], wrist_rotation[0, 1], wrist_rotation[0, 2],\n",
    "                                                  wrist_rotation[1, 0], wrist_rotation[1, 1], wrist_rotation[1, 2],\n",
    "                                                  wrist_rotation[2, 0])\n",
    "    \n",
    "    # theta2 and theta3 are flipped because of a minor error in positive/negative rotation direction\n",
    "    return (\n",
    "        [theta1, -theta2_u, -theta3_u, theta4_u, theta5_u, theta6_u],\n",
    "        [theta1, -theta2_d, -theta3_d, theta4_d, theta5_d, theta6_d]\n",
    "    )\n",
    "    \n",
    "# Testing\n",
    "test_target_frame = np.array([\n",
    "    [0, 0, 1, 300e-3],\n",
    "    [0, -1, 0, 400e-3],\n",
    "    [1, 0, 0, 0],\n",
    "    [0, 0, 0, 1],\n",
    "])\n",
    "ik_analytic(test_target_frame)"
   ]
  },
  {
   "cell_type": "markdown",
   "metadata": {},
   "source": [
    "## Numerical IK "
   ]
  },
  {
   "cell_type": "code",
   "execution_count": 7,
   "metadata": {},
   "outputs": [
    {
     "data": {
      "text/plain": [
       "array([  46.46882575,   -6.97942269,  -67.99305218, -132.53668442,\n",
       "       -100.28714469, -168.98585972])"
      ]
     },
     "execution_count": 7,
     "metadata": {},
     "output_type": "execute_result"
    }
   ],
   "source": [
    "def adjusted_ik_solution(joint_angles):\n",
    "    return [\n",
    "        joint_angles[0], # theta1\n",
    "        joint_angles[1], # theta2\n",
    "        joint_angles[2], # theta3\n",
    "        -joint_angles[3], # theta4\n",
    "        -joint_angles[4], # theta5\n",
    "        -joint_angles[5] # theta6\n",
    "    ]\n",
    "\n",
    "# The joint screw axes in the end-effector frame when the manipulator is at the home position\n",
    "Blist = np.array([\n",
    "    [ -1,  0, 0,      0    , -L1-L2-L3-L4,  0 ],    # B_1\n",
    "    [  0,  1, 0,  -L2-L3-L4,       0     , -H3],    # B_2\n",
    "    [  0,  1, 0,   -L3-L4  ,       0     , -H3],    # B_3\n",
    "    [  0,  0, 1,      0    ,       0     ,  0 ],    # B_4\n",
    "    [  0,  1, 0,     -L4   ,       0     ,  0 ],    # B_5\n",
    "    [  0,  0, 1,      0    ,       0     ,  0 ]]).T # B_6\n",
    "\n",
    "\n",
    "M = np.array([[0,0,-1,L1+L2+L3+L4], [0,-1,0,0], [-1,0,0, H1+H3], [0,0,0,1]])\n",
    "\n",
    "target_frame = np.array([\n",
    "    [0, 0, 1, 300e-3],\n",
    "    [0, -1, 0, 400e-3],\n",
    "    [1, 0, 0, 0],\n",
    "    [0, 0, 0, 1],\n",
    "])\n",
    "\n",
    "\n",
    "thetalist0 = np.array(adjusted_ik_solution(ik_analytic(target_frame)[0]))\n",
    "\n",
    "eomg = 0.00001\n",
    "ev = 0.00001\n",
    "\n",
    "nSolution = np.degrees(mr.IKinBody(Blist, M, target_frame, thetalist0, eomg, ev)[0])\n",
    "nSolution = np.concatenate((nSolution[0:3],nSolution[3:]*-1))\n",
    "nSolution"
   ]
  },
  {
   "cell_type": "markdown",
   "metadata": {},
   "source": [
    "### Comparing Numerical and Analytic solution"
   ]
  },
  {
   "cell_type": "code",
   "execution_count": 8,
   "metadata": {},
   "outputs": [
    {
     "data": {
      "text/plain": [
       "([0.8110335719191258,\n",
       "  -0.03355247677107365,\n",
       "  1.5158581132113476,\n",
       "  -2.3286016483044136,\n",
       "  -1.631702378813191,\n",
       "  -3.0773574620378215],\n",
       " array([ 0.81103401, -0.12181391, -1.18670263, -2.31320152, -1.75034087,\n",
       "        -2.94935964]))"
      ]
     },
     "execution_count": 8,
     "metadata": {},
     "output_type": "execute_result"
    }
   ],
   "source": [
    "# Test 1\n",
    "target_frame = np.array([\n",
    "    [0, 0, 1, 300e-3],\n",
    "    [0, -1, 0, 400e-3],\n",
    "    [1, 0, 0, 0],\n",
    "    [0, 0, 0, 1],\n",
    "])\n",
    "\n",
    "thetalist0 = np.array(adjusted_ik_solution(ik_analytic(target_frame)[0]))\n",
    "\n",
    "aSolution = ik_analytic(target_frame)[0]\n",
    "nSolution = mr.IKinBody(Blist, M, target_frame, thetalist0, eomg, ev)[0]\n",
    "nSolution = np.concatenate((nSolution[0:3],nSolution[3:]*-1)) \n",
    "#np.allclose(aSolution, nSolution, rtol=2e-01, atol=2e-01, equal_nan=False)\n",
    "\n",
    "aSolution, nSolution\n",
    "\n",
    "# Works sometimes with high enough tolerance \n",
    "# => either some kinematical mistake, numerical solver doesnt work as intended, or both"
   ]
  },
  {
   "cell_type": "code",
   "execution_count": 9,
   "metadata": {},
   "outputs": [
    {
     "data": {
      "text/plain": [
       "([0.4636476090008061,\n",
       "  -0.8042744630056227,\n",
       "  2.2024768033094917,\n",
       "  -0.0,\n",
       "  -2.968998667098765,\n",
       "  2.677945044588987],\n",
       " array([19.31320592, -0.80724318, -0.48412736,  9.42485933, 18.57013013,\n",
       "         6.74673343]))"
      ]
     },
     "execution_count": 9,
     "metadata": {},
     "output_type": "execute_result"
    }
   ],
   "source": [
    "# Test 2\n",
    "target_frame = np.array([\n",
    "    [1, 0, 0, 400e-3],\n",
    "    [0, 1, 0, 200e-3],\n",
    "    [0, 0, 1, -400e-3],\n",
    "    [0, 0, 0, 1],\n",
    "])\n",
    "\n",
    "thetalist0 = np.array(adjusted_ik_solution(ik_analytic(target_frame)[0]))\n",
    "\n",
    "aSolution = ik_analytic(target_frame)[0]\n",
    "nSolution = mr.IKinBody(Blist, M, target_frame, thetalist0, eomg, ev)[0]\n",
    "nSolution = np.concatenate((nSolution[0:3],nSolution[3:]*-1)) \n",
    "np.allclose(aSolution, nSolution, rtol=10e-05, atol=1e-03, equal_nan=False)\n",
    "\n",
    "aSolution, nSolution"
   ]
  },
  {
   "cell_type": "code",
   "execution_count": 10,
   "metadata": {},
   "outputs": [
    {
     "data": {
      "text/plain": [
       "([0.8110335719191258,\n",
       "  -0.876096080563673,\n",
       "  1.9372544611632807,\n",
       "  -2.2631348169151257,\n",
       "  -1.913478119738646,\n",
       "  -2.75661998508768],\n",
       " array([  60.3972952 ,  -20.80849238,   -5.16895348,  394.31299563,\n",
       "          58.42112081, -395.55931502]))"
      ]
     },
     "execution_count": 10,
     "metadata": {},
     "output_type": "execute_result"
    }
   ],
   "source": [
    "# Test 3\n",
    "target_frame = np.array([\n",
    "    [0, 0, 1, 300e-3],\n",
    "    [0, -1, 0, 400e-3],\n",
    "    [1, 0, 0, -400e-3],\n",
    "    [0, 0, 0, 1],\n",
    "])\n",
    "\n",
    "thetalist0 = np.array(adjusted_ik_solution(ik_analytic(target_frame)[0]))\n",
    "\n",
    "aSolution = ik_analytic(target_frame)[0]\n",
    "nSolution = mr.IKinBody(Blist, M, target_frame, thetalist0, eomg, ev)[0]\n",
    "nSolution = np.concatenate((nSolution[0:3],nSolution[3:]*-1)) \n",
    "\n",
    "np.allclose(aSolution, nSolution, rtol=10e-01, atol=1e-03, equal_nan=False)\n",
    "\n",
    "aSolution, nSolution"
   ]
  },
  {
   "cell_type": "markdown",
   "metadata": {},
   "source": [
    "## Visualizing"
   ]
  },
  {
   "cell_type": "code",
   "execution_count": 11,
   "metadata": {},
   "outputs": [],
   "source": [
    "scene2 = robot_scene.create_scene()"
   ]
  },
  {
   "cell_type": "code",
   "execution_count": 12,
   "metadata": {},
   "outputs": [
    {
     "data": {
      "application/vnd.jupyter.widget-view+json": {
       "model_id": "49a8bb4a57f042babea2fe1c3673dd7f",
       "version_major": 2,
       "version_minor": 0
      },
      "text/plain": [
       "HBox(children=(Renderer(camera=PerspectiveCamera(children=(DirectionalLight(color='white', intensity=0.5, posi…"
      ]
     },
     "metadata": {},
     "output_type": "display_data"
    }
   ],
   "source": [
    "def make_target_frame(x, y, z, yaw, pitch, roll):\n",
    "    c_yaw = np.cos(yaw)\n",
    "    s_yaw = np.sin(yaw)\n",
    "    R_yaw = np.array([[1, 0, 0], [0, c_yaw, -s_yaw], [0, s_yaw, c_yaw]])\n",
    "    \n",
    "    c_pitch = np.cos(pitch)\n",
    "    s_pitch = np.sin(pitch)\n",
    "    R_pitch = np.array([[c_pitch, 0, s_pitch], [0, 1, 0], [-s_pitch, 0, c_pitch]])\n",
    "    \n",
    "    c_roll = np.cos(roll)\n",
    "    s_roll = np.sin(roll)\n",
    "    R_roll = np.array([[c_roll, -s_roll, 0], [s_roll, c_roll, 0], [0, 0, 1]])\n",
    "    \n",
    "    target_frame = np.eye(4)\n",
    "    target_frame[0:3, 0:3] = R_yaw @ R_pitch @ R_roll\n",
    "    target_frame[0:3, 3] = [x, y, z]\n",
    "    return target_frame\n",
    "\n",
    "def show_target(scene, target_frame):\n",
    "    scene.target.matrix = target_frame.flatten(order=\"F\").tolist()\n",
    "\n",
    "# Interactive loop\n",
    "def interact_ik(x, y, z, yaw, pitch, roll, elbow_position, must_show_robot, must_show_frames, must_show_axes):\n",
    "    # Convert the interactive sliders value into a transformation matrix\n",
    "    target_frame = make_target_frame(x*1e-3, y*1e-3, z*1e-3, np.radians(yaw), np.radians(pitch), np.radians(roll))\n",
    "    \n",
    "    # Solve the inverse kinematics\n",
    "    if elbow_position == \"elbow_up\":\n",
    "        (joint_angles, _) = ik_analytic(target_frame)\n",
    "    elif elbow_position == \"elbow_down\":\n",
    "        (_, joint_angles) = ik_analytic(target_frame)\n",
    "    \n",
    "    # Do the forwards kinematics to check the solution and to display the robot\n",
    "    (frames, transforms) = fk_poe(screw_axes, joint_angles, frames_at_rest)\n",
    "    \n",
    "    print(\"Target:\\n\", target_frame)\n",
    "    print(\"End effector:\\n\", frames[-1])\n",
    "    print(\"Target reached:\", np.allclose(frames[-1], target_frame))\n",
    "    print(\"Solution:\\n\", joint_angles)\n",
    "    show_target(scene2, target_frame)\n",
    "    show_robot(scene2, transforms, must_show_robot)\n",
    "    show_frames(scene2, frames, must_show_frames)\n",
    "    show_axes(scene2, frames, must_show_axes)\n",
    "\n",
    "# Start the interaction\n",
    "interactive2 = ipywidgets.interactive(\n",
    "    interact_ik,\n",
    "    x=ipywidgets.IntSlider(description=\"X (mm)\", min=-1000, max=1000, step=1, value=300),\n",
    "    y=ipywidgets.IntSlider(description=\"Y (mm)\", min=-1000, max=1000, step=1, value=400),\n",
    "    z=ipywidgets.IntSlider(description=\"Z (mm)\", min=-1000, max=0, step=1, value=0),\n",
    "    yaw=ipywidgets.IntSlider(description=\"Yaw (°)\", min=-180, max=180, step=1, value=180),\n",
    "    pitch=ipywidgets.IntSlider(description=\"Pitch (°)\", min=-90, max=90, step=1, value=-90),\n",
    "    roll=ipywidgets.IntSlider(description=\"Roll (°)\", min=-180, max=180, step=1, value=0),\n",
    "    elbow_position=ipywidgets.ToggleButtons(options=[\"elbow_up\", \"elbow_down\"]),\n",
    "    must_show_robot=ipywidgets.Checkbox(description=\"Show Robot\", value=True),\n",
    "    must_show_frames=ipywidgets.Checkbox(description=\"Show Frames\", value=False),\n",
    "    must_show_axes=ipywidgets.Checkbox(description=\"Show Axes\", value=False),\n",
    ")\n",
    "\n",
    "display(ipywidgets.HBox([\n",
    "    scene2.viewer.renderer,\n",
    "    ipywidgets.VBox(interactive2.children)\n",
    "]))"
   ]
  }
 ],
 "metadata": {
  "interpreter": {
   "hash": "8b625110f8ef0829964b3d22efbf120944fd384f009452687608e0ce025b16c3"
  },
  "kernelspec": {
   "display_name": "Python 3 (ipykernel)",
   "language": "python",
   "name": "python3"
  },
  "language_info": {
   "codemirror_mode": {
    "name": "ipython",
    "version": 3
   },
   "file_extension": ".py",
   "mimetype": "text/x-python",
   "name": "python",
   "nbconvert_exporter": "python",
   "pygments_lexer": "ipython3",
   "version": "3.9.8"
  }
 },
 "nbformat": 4,
 "nbformat_minor": 2
}
