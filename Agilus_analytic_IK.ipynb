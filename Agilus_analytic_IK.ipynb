{
 "cells": [
  {
   "cell_type": "code",
   "execution_count": 1,
   "id": "88eeb829",
   "metadata": {},
   "outputs": [],
   "source": [
    "import numpy as np\n",
    "import modern_robotics as mr\n",
    "from sympy import *\n"
   ]
  },
  {
   "cell_type": "code",
   "execution_count": 2,
   "id": "59de4475",
   "metadata": {},
   "outputs": [
    {
     "data": {
      "text/plain": [
       "'l1 = 25.0\\nl2 = 455.0\\nl3 = 420.0\\nl4 = 80.0\\nh1 = 400.0\\nh3 = 35.0\\nWx = l1+l3\\nWy = 0\\nWz = h1+h3+l2'"
      ]
     },
     "execution_count": 2,
     "metadata": {},
     "output_type": "execute_result"
    }
   ],
   "source": [
    "'''l1 = 25.0\n",
    "l2 = 455.0\n",
    "l3 = 420.0\n",
    "l4 = 80.0\n",
    "h1 = 400.0\n",
    "h3 = 35.0\n",
    "Wx = l1+l3\n",
    "Wy = 0\n",
    "Wz = h1+h3+l2'''\n",
    "\n",
    "\n"
   ]
  },
  {
   "cell_type": "code",
   "execution_count": 3,
   "id": "76c10cfd",
   "metadata": {},
   "outputs": [
    {
     "data": {
      "text/latex": [
       "$\\displaystyle c^{2} = a^{2} - 2 a b \\cos{\\left(C \\right)} + b^{2}$"
      ],
      "text/plain": [
       "Eq(c**2, a**2 - 2*a*b*cos(C) + b**2)"
      ]
     },
     "execution_count": 3,
     "metadata": {},
     "output_type": "execute_result"
    }
   ],
   "source": [
    "# D_eq = D_equation\n",
    "a, b, c, alpha, beta, gamma,theta, phi1, phi2, x, y, z, C, C2, C3, D, c2, c3, z2, z3, r2, r3 = symbols(\n",
    "    'a, b, c, alpha, beta, gamma, theta, phi1, phi2, x, y, z, C, C2, C3 D, c2, c3 z2, z3, r2, r3')\n",
    "G = Function('G')\n",
    "w, I, p = symbols('omega, I, p')\n",
    "M, r11,r12,r13,r21,r22,r23,r31,r32,r33  = symbols('M, r11,r12,r13,r21,r22,r23,r31,r32,r33')\n",
    "\n",
    "omega1, omega2, omega3, omega4, omega5, omega6 = symbols('omega1:7')\n",
    "velocity1, velocity2, velocity3, velocity4, velocity5, velocity6 = symbols('v1:7')\n",
    "Screw1, Screw2, Screw3, Screw4, Screw5, Screw6 = symbols('S1:7')\n",
    "theta1, theta2, theta3, theta4, theta5, theta6 = symbols('theta1:7')\n",
    "H1, H3 = symbols('H1,H3') \n",
    "L1, L2, L3, L4 = symbols('L1:5') \n",
    " \n",
    "r = sqrt(x**2 + y**2)\n",
    "R2 = r-L1\n",
    "Z2 = z-H1\n",
    "C2 = sqrt(r2**2 + z2**2)\n",
    "C3 = sqrt(L3**2 + H3**2)\n",
    "Z3 = C3*sin(phi2)\n",
    "R3 = C3*cos(phi2)\n",
    "    \n",
    "lawCosine = Eq(c**2, a**2 + b**2 - 2*a*b*cos(C))\n",
    "\n",
    "lawCosine\n",
    "\n"
   ]
  },
  {
   "cell_type": "code",
   "execution_count": 4,
   "id": "f9eae5a6",
   "metadata": {},
   "outputs": [
    {
     "data": {
      "text/latex": [
       "$\\displaystyle \\cos{\\left(C \\right)} = \\frac{a^{2} + b^{2} - c^{2}}{2 a b}$"
      ],
      "text/plain": [
       "Eq(cos(C), (a**2 + b**2 - c**2)/(2*a*b))"
      ]
     },
     "execution_count": 4,
     "metadata": {},
     "output_type": "execute_result"
    }
   ],
   "source": [
    "cosC = solve(lawCosine, cos(C))[0]\n",
    "\n",
    "cosC = Eq(cos(C), cosC)\n",
    "\n",
    "cosC"
   ]
  },
  {
   "cell_type": "code",
   "execution_count": 5,
   "id": "e97b8a96",
   "metadata": {},
   "outputs": [
    {
     "data": {
      "text/latex": [
       "$\\displaystyle \\theta_{3} = - \\phi_{1} + \\phi_{2}$"
      ],
      "text/plain": [
       "Eq(theta3, -phi1 + phi2)"
      ]
     },
     "execution_count": 5,
     "metadata": {},
     "output_type": "execute_result"
    }
   ],
   "source": [
    "theta3_eq_elbow_down = Eq(theta3, phi2-phi1)\n",
    "theta3_eq_elbow_down"
   ]
  },
  {
   "cell_type": "code",
   "execution_count": 6,
   "id": "73118325",
   "metadata": {},
   "outputs": [
    {
     "data": {
      "text/latex": [
       "$\\displaystyle \\theta_{3} = - \\phi_{1} - \\phi_{2}$"
      ],
      "text/plain": [
       "Eq(theta3, -phi1 - phi2)"
      ]
     },
     "execution_count": 6,
     "metadata": {},
     "output_type": "execute_result"
    }
   ],
   "source": [
    "theta3_eq_elbow_up = Eq(theta3, -phi1-phi2)\n",
    "theta3_eq_elbow_up "
   ]
  },
  {
   "cell_type": "code",
   "execution_count": 7,
   "id": "44472e9a",
   "metadata": {},
   "outputs": [
    {
     "data": {
      "text/latex": [
       "$\\displaystyle \\phi_{1} = \\operatorname{atan}{\\left(\\frac{H_{3}}{L_{3}} \\right)}$"
      ],
      "text/plain": [
       "Eq(phi1, atan(H3/L3))"
      ]
     },
     "execution_count": 7,
     "metadata": {},
     "output_type": "execute_result"
    }
   ],
   "source": [
    "phi1_eq = Eq(phi1, atan(H3/L3))\n",
    "phi1_eq"
   ]
  },
  {
   "cell_type": "code",
   "execution_count": 8,
   "id": "d99f50f2",
   "metadata": {},
   "outputs": [
    {
     "data": {
      "text/latex": [
       "$\\displaystyle \\phi_{2} = \\pi - \\beta$"
      ],
      "text/plain": [
       "Eq(phi2, pi - beta)"
      ]
     },
     "execution_count": 8,
     "metadata": {},
     "output_type": "execute_result"
    }
   ],
   "source": [
    "phi2_eq = Eq(phi2, pi-beta)\n",
    "phi2_eq"
   ]
  },
  {
   "cell_type": "code",
   "execution_count": 9,
   "id": "4c6846b6",
   "metadata": {},
   "outputs": [
    {
     "data": {
      "text/latex": [
       "$\\displaystyle \\theta_{3} = \\beta - \\operatorname{atan}{\\left(\\frac{H_{3}}{L_{3}} \\right)} - \\pi$"
      ],
      "text/plain": [
       "Eq(theta3, beta - atan(H3/L3) - pi)"
      ]
     },
     "execution_count": 9,
     "metadata": {},
     "output_type": "execute_result"
    }
   ],
   "source": [
    "theta3_eq_elbow_up = theta3_eq_elbow_up.subs({phi1:phi1_eq.rhs, phi2:phi2_eq.rhs})\n",
    "theta3_eq_elbow_up"
   ]
  },
  {
   "cell_type": "code",
   "execution_count": 10,
   "id": "4c789ab1",
   "metadata": {},
   "outputs": [
    {
     "data": {
      "text/latex": [
       "$\\displaystyle \\theta_{3} = - \\beta - \\operatorname{atan}{\\left(\\frac{H_{3}}{L_{3}} \\right)} + \\pi$"
      ],
      "text/plain": [
       "Eq(theta3, -beta - atan(H3/L3) + pi)"
      ]
     },
     "execution_count": 10,
     "metadata": {},
     "output_type": "execute_result"
    }
   ],
   "source": [
    "theta3_eq_elbow_down = theta3_eq_elbow_down.subs({phi1:phi1_eq.rhs, phi2:phi2_eq.rhs})\n",
    "theta3_eq_elbow_down"
   ]
  },
  {
   "cell_type": "code",
   "execution_count": 11,
   "id": "5ce4e62b",
   "metadata": {},
   "outputs": [
    {
     "data": {
      "text/latex": [
       "$\\displaystyle \\cos{\\left(\\beta \\right)} = \\frac{a^{2} + b^{2} - c^{2}}{2 a b}$"
      ],
      "text/plain": [
       "Eq(cos(beta), (a**2 + b**2 - c**2)/(2*a*b))"
      ]
     },
     "execution_count": 11,
     "metadata": {},
     "output_type": "execute_result"
    }
   ],
   "source": [
    "cosBeta = Eq(cos(beta), cosC.rhs)\n",
    "cosBeta"
   ]
  },
  {
   "cell_type": "code",
   "execution_count": 12,
   "id": "38c8f55a",
   "metadata": {},
   "outputs": [
    {
     "data": {
      "text/latex": [
       "$\\displaystyle \\cos{\\left(\\beta \\right)} = \\frac{L_{2}^{2} - c_{2}^{2} + c_{3}^{2}}{2 L_{2} c_{3}} = D$"
      ],
      "text/plain": [
       "Eq(Eq(cos(beta), (L2**2 - c2**2 + c3**2)/(2*L2*c3)), D)"
      ]
     },
     "execution_count": 12,
     "metadata": {},
     "output_type": "execute_result"
    }
   ],
   "source": [
    "cosBeta = cosBeta.subs({a: L2, b:c3, c: c2})\n",
    "\n",
    "D_eq = Eq(cosBeta, D)\n",
    "\n",
    "D_eq\n",
    "\n"
   ]
  },
  {
   "cell_type": "code",
   "execution_count": 13,
   "id": "e02a6ec5",
   "metadata": {
    "scrolled": true
   },
   "outputs": [
    {
     "data": {
      "text/latex": [
       "$\\displaystyle \\beta = \\operatorname{atan_{2}}{\\left(\\sqrt{1 - D^{2}},D \\right)}$"
      ],
      "text/plain": [
       "Eq(beta, atan2(sqrt(1 - D**2), D))"
      ]
     },
     "execution_count": 13,
     "metadata": {},
     "output_type": "execute_result"
    }
   ],
   "source": [
    "Beta = Eq(beta, atan2(sqrt(1-D**2),D))\n",
    "Beta"
   ]
  },
  {
   "cell_type": "code",
   "execution_count": 14,
   "id": "4d15401b",
   "metadata": {},
   "outputs": [
    {
     "data": {
      "text/latex": [
       "$\\displaystyle \\beta = \\operatorname{atan_{2}}{\\left(\\sqrt{1 - \\frac{\\left(L_{2}^{2} - c_{2}^{2} + c_{3}^{2}\\right)^{2}}{4 L_{2}^{2} c_{3}^{2}}},\\frac{L_{2}^{2} - c_{2}^{2} + c_{3}^{2}}{2 L_{2} c_{3}} \\right)}$"
      ],
      "text/plain": [
       "Eq(beta, atan2(sqrt(1 - (L2**2 - c2**2 + c3**2)**2/(4*L2**2*c3**2)), (L2**2 - c2**2 + c3**2)/(2*L2*c3)))"
      ]
     },
     "execution_count": 14,
     "metadata": {},
     "output_type": "execute_result"
    }
   ],
   "source": [
    "Beta = Beta.subs(D, D_eq.lhs.rhs) # rhs = rightHandSide, lhs = leftHandSide\n",
    "Beta"
   ]
  },
  {
   "cell_type": "code",
   "execution_count": 15,
   "id": "f9d8d6d5",
   "metadata": {},
   "outputs": [],
   "source": [
    "#betaVal = Beta.subs({c2:C2, c3:C3}).subs({r2:R2, z2:Z2}).subs({ L1:l1, L2:l2, L3:l3, H1:h1, H3:h3, x:Wx, y:Wy, z:Wz}).rhs\n",
    "#betaVal"
   ]
  },
  {
   "cell_type": "code",
   "execution_count": 16,
   "id": "189681c8",
   "metadata": {},
   "outputs": [],
   "source": [
    "#theta3_eq_elbow_down.subs({beta:betaVal, H3:h3, L3:l3})"
   ]
  },
  {
   "cell_type": "code",
   "execution_count": 17,
   "id": "1a1fe75b",
   "metadata": {},
   "outputs": [],
   "source": [
    "#theta3_eq_elbow_up.subs({beta:betaVal, H3:h3, L3:l3})"
   ]
  },
  {
   "cell_type": "code",
   "execution_count": 18,
   "id": "013a7d50",
   "metadata": {},
   "outputs": [
    {
     "data": {
      "text/latex": [
       "$\\displaystyle \\theta_{2} = - \\alpha + \\gamma$"
      ],
      "text/plain": [
       "Eq(theta2, -alpha + gamma)"
      ]
     },
     "execution_count": 18,
     "metadata": {},
     "output_type": "execute_result"
    }
   ],
   "source": [
    "theta2_eq_elbow_down = Eq(theta2, gamma-alpha)\n",
    "theta2_eq_elbow_down\n"
   ]
  },
  {
   "cell_type": "code",
   "execution_count": 19,
   "id": "7076dd3c",
   "metadata": {},
   "outputs": [
    {
     "data": {
      "text/latex": [
       "$\\displaystyle \\theta_{2} = \\alpha + \\gamma$"
      ],
      "text/plain": [
       "Eq(theta2, alpha + gamma)"
      ]
     },
     "execution_count": 19,
     "metadata": {},
     "output_type": "execute_result"
    }
   ],
   "source": [
    "theta2_eq_elbow_up  = Eq(theta2, gamma+alpha)\n",
    "theta2_eq_elbow_up \n"
   ]
  },
  {
   "cell_type": "code",
   "execution_count": 20,
   "id": "34051860",
   "metadata": {},
   "outputs": [
    {
     "data": {
      "text/latex": [
       "$\\displaystyle \\gamma = \\operatorname{atan_{2}}{\\left(z_{2},r_{2} \\right)}$"
      ],
      "text/plain": [
       "Eq(gamma, atan2(z2, r2))"
      ]
     },
     "execution_count": 20,
     "metadata": {},
     "output_type": "execute_result"
    }
   ],
   "source": [
    "gamma_eq = Eq(gamma, atan2(z2,r2))\n",
    "gamma_eq\n"
   ]
  },
  {
   "cell_type": "code",
   "execution_count": 21,
   "id": "a39713ff",
   "metadata": {},
   "outputs": [
    {
     "data": {
      "text/latex": [
       "$\\displaystyle \\alpha = \\operatorname{atan_{2}}{\\left(z_{3},L_{2} + r_{3} \\right)}$"
      ],
      "text/plain": [
       "Eq(alpha, atan2(z3, L2 + r3))"
      ]
     },
     "execution_count": 21,
     "metadata": {},
     "output_type": "execute_result"
    }
   ],
   "source": [
    "alpha_eq = Eq(alpha, atan2(z3, L2 + r3))\n",
    "alpha_eq"
   ]
  },
  {
   "cell_type": "code",
   "execution_count": 22,
   "id": "e82ea044",
   "metadata": {},
   "outputs": [
    {
     "data": {
      "text/latex": [
       "$\\displaystyle \\theta_{2} = \\operatorname{atan_{2}}{\\left(z_{2},r_{2} \\right)} - \\operatorname{atan_{2}}{\\left(z_{3},L_{2} + r_{3} \\right)}$"
      ],
      "text/plain": [
       "Eq(theta2, atan2(z2, r2) - atan2(z3, L2 + r3))"
      ]
     },
     "execution_count": 22,
     "metadata": {},
     "output_type": "execute_result"
    }
   ],
   "source": [
    "theta2_eq_elbow_down = Eq(theta2, gamma_eq.rhs-alpha_eq.rhs)\n",
    "theta2_eq_elbow_down"
   ]
  },
  {
   "cell_type": "code",
   "execution_count": 23,
   "id": "df84757a",
   "metadata": {},
   "outputs": [
    {
     "data": {
      "text/latex": [
       "$\\displaystyle \\theta_{2} = \\operatorname{atan_{2}}{\\left(z_{2},r_{2} \\right)} + \\operatorname{atan_{2}}{\\left(z_{3},L_{2} + r_{3} \\right)}$"
      ],
      "text/plain": [
       "Eq(theta2, atan2(z2, r2) + atan2(z3, L2 + r3))"
      ]
     },
     "execution_count": 23,
     "metadata": {},
     "output_type": "execute_result"
    }
   ],
   "source": [
    "theta2_eq_elbow_up = Eq(theta2, gamma_eq.rhs+alpha_eq.rhs)\n",
    "theta2_eq_elbow_up"
   ]
  },
  {
   "cell_type": "code",
   "execution_count": 24,
   "id": "bede30ea",
   "metadata": {},
   "outputs": [],
   "source": [
    "#theta2_eq_elbow_down.subs({z3:Z3, r3:R3, z2:Z2, r2:R2, L2:l2}).subs(phi2,phi2_eq.rhs).subs(\n",
    "#    {beta:betaVal, L1:l1, L2:l2, L3:l3, H1:h1, H3:h3, x:Wx, y:Wy, z:Wz})\n",
    "\n",
    "\n"
   ]
  },
  {
   "cell_type": "code",
   "execution_count": 25,
   "id": "08045564",
   "metadata": {},
   "outputs": [],
   "source": [
    "#theta2_eq_elbow_up.subs({z3:Z3, r3:R3, z2:Z2, r2:R2, L2:l2}).subs(phi2,phi2_eq.rhs).subs(\n",
    " #   {beta:betaVal, L1:l1, L2:l2, L3:l3, H1:h1, H3:h3, x:Wx, y:Wy, z:Wz})\n",
    "\n",
    "\n",
    "\n",
    "\n"
   ]
  },
  {
   "cell_type": "code",
   "execution_count": 26,
   "id": "f9dfb388",
   "metadata": {},
   "outputs": [
    {
     "data": {
      "text/latex": [
       "$\\displaystyle \\theta_{1} = \\operatorname{atan_{2}}{\\left(y,x \\right)}$"
      ],
      "text/plain": [
       "Eq(theta1, atan2(y, x))"
      ]
     },
     "execution_count": 26,
     "metadata": {},
     "output_type": "execute_result"
    }
   ],
   "source": [
    "theta1_eq = Eq(theta1, atan2(y,x))\n",
    "theta1_eq\n"
   ]
  },
  {
   "cell_type": "code",
   "execution_count": 27,
   "id": "1cbc346f",
   "metadata": {},
   "outputs": [],
   "source": [
    "#theta1_eq.subs({y:Wy, x:Wx})\n"
   ]
  },
  {
   "cell_type": "code",
   "execution_count": 28,
   "id": "cae0733c",
   "metadata": {},
   "outputs": [
    {
     "data": {
      "text/latex": [
       "$\\displaystyle \\left[\\begin{matrix}-1\\\\0\\\\0\\\\H_{1} + H_{3}\\\\0\\\\0\\end{matrix}\\right]$"
      ],
      "text/plain": [
       "Matrix([\n",
       "[     -1],\n",
       "[      0],\n",
       "[      0],\n",
       "[H1 + H3],\n",
       "[      0],\n",
       "[      0]])"
      ]
     },
     "execution_count": 28,
     "metadata": {},
     "output_type": "execute_result"
    }
   ],
   "source": [
    "w1 = Matrix([0,0,1])\n",
    "v1 = Matrix([0,0,0])\n",
    "S1 = Matrix([w1,v1])\n",
    "\n",
    "w2 = Matrix([0,-1,0])\n",
    "v2 = Matrix([-H1,0,-L1])\n",
    "S2 = Matrix([w2,v2])\n",
    "\n",
    "w3 = Matrix([0,-1,0])\n",
    "v3 = Matrix([-H3,0,-L2-L1])\n",
    "S3 = Matrix([w3,v3])\n",
    "\n",
    "w4 = Matrix([-1,0,0])\n",
    "v4 = Matrix([0,H1+H3,0])\n",
    "S4 = Matrix([w4,v4])\n",
    "\n",
    "w5 = Matrix([0,-1,0])\n",
    "v5 = Matrix([-H1-H3,0,-L1-L2-L3])\n",
    "S5 = Matrix([w5,v5])\n",
    "\n",
    "w6 = Matrix([-1,0,0])\n",
    "v6 = Matrix([H1+H3,0,0])\n",
    "S6 = Matrix([w6,v6])\n",
    "\n",
    "S6"
   ]
  },
  {
   "cell_type": "code",
   "execution_count": 29,
   "id": "0bb56e9a",
   "metadata": {},
   "outputs": [
    {
     "data": {
      "text/latex": [
       "$\\displaystyle I \\theta + \\omega^{2} \\left(\\theta - \\sin{\\left(\\theta \\right)}\\right) + \\omega \\left(1 - \\cos{\\left(\\theta \\right)}\\right)$"
      ],
      "text/plain": [
       "I*theta + omega**2*(theta - sin(theta)) + omega*(1 - cos(theta))"
      ]
     },
     "execution_count": 29,
     "metadata": {},
     "output_type": "execute_result"
    }
   ],
   "source": [
    "def skew(w):\n",
    "    return Matrix([ [0,      -w[2],  w[1]],\n",
    "                    [w[2],     0  , -w[0]],\n",
    "                    [-w[1],  w[0] ,    0]]) \n",
    "\n",
    "\n",
    "G = theta*I + (1-cos(theta))*w + (theta-sin(theta))*w**2\n",
    "\n",
    "\n",
    "G\n",
    "\n"
   ]
  },
  {
   "cell_type": "code",
   "execution_count": 30,
   "id": "dcbec6b5",
   "metadata": {},
   "outputs": [],
   "source": [
    "def chooseRotMatrix(w, theta):\n",
    "    if(w[0] != 0):\n",
    "        return rot_axis1(-theta) # -theta since rot_axis1 = Rot(x, -theta)\n",
    "    \n",
    "    elif(w[1] != 0):      \n",
    "        return rot_axis2(-theta)\n",
    "    \n",
    "    elif(w[2] != 0):\n",
    "        return rot_axis3(-theta)\n",
    "\n"
   ]
  },
  {
   "cell_type": "code",
   "execution_count": 31,
   "id": "6e221cdb",
   "metadata": {},
   "outputs": [
    {
     "data": {
      "text/latex": [
       "$\\displaystyle \\left[\\begin{matrix}\\cos{\\left(\\theta_{1} \\right)} & - \\sin{\\left(\\theta_{1} \\right)} & 0 & 0\\\\\\sin{\\left(\\theta_{1} \\right)} & \\cos{\\left(\\theta_{1} \\right)} & 0 & 0\\\\0 & 0 & 1 & 0\\\\0 & 0 & 0 & 1\\end{matrix}\\right]$"
      ],
      "text/plain": [
       "Matrix([\n",
       "[cos(theta1), -sin(theta1), 0, 0],\n",
       "[sin(theta1),  cos(theta1), 0, 0],\n",
       "[          0,            0, 1, 0],\n",
       "[          0,            0, 0, 1]])"
      ]
     },
     "execution_count": 31,
     "metadata": {},
     "output_type": "execute_result"
    }
   ],
   "source": [
    "Rot1 = Matrix([chooseRotMatrix(w1, theta1)])\n",
    "\n",
    "p1 = G.subs({I:eye(3), theta:theta1, w:skew(w1)})@v1 \n",
    "\n",
    "eS1 = Matrix([[Rot1.col_insert(3, p1)], [0,0,0,1]])\n",
    "eS1\n"
   ]
  },
  {
   "cell_type": "code",
   "execution_count": 32,
   "id": "0cbb34c3",
   "metadata": {},
   "outputs": [
    {
     "data": {
      "text/latex": [
       "$\\displaystyle \\left[\\begin{matrix}\\cos{\\left(\\theta_{2} \\right)} & 0 & \\sin{\\left(\\theta_{2} \\right)} & - H_{1} \\sin{\\left(\\theta_{2} \\right)} - L_{1} \\left(\\cos{\\left(\\theta_{2} \\right)} - 1\\right)\\\\0 & 1 & 0 & 0\\\\- \\sin{\\left(\\theta_{2} \\right)} & 0 & \\cos{\\left(\\theta_{2} \\right)} & - H_{1} \\left(1 - \\cos{\\left(\\theta_{2} \\right)}\\right) - L_{1} \\sin{\\left(\\theta_{2} \\right)}\\\\0 & 0 & 0 & 1\\end{matrix}\\right]$"
      ],
      "text/plain": [
       "Matrix([\n",
       "[ cos(theta2), 0, sin(theta2), -H1*sin(theta2) - L1*(cos(theta2) - 1)],\n",
       "[           0, 1,           0,                                      0],\n",
       "[-sin(theta2), 0, cos(theta2), -H1*(1 - cos(theta2)) - L1*sin(theta2)],\n",
       "[           0, 0,           0,                                      1]])"
      ]
     },
     "execution_count": 32,
     "metadata": {},
     "output_type": "execute_result"
    }
   ],
   "source": [
    "Rot2 = Matrix([chooseRotMatrix(w2, theta2)])\n",
    "\n",
    "p2 = G.subs({I: eye(3), theta:theta2, w:skew(w2)}) @ v2\n",
    "\n",
    "eS2 = Matrix([[Rot2.col_insert(3, p2)], [0,0,0,1]])\n",
    "eS2"
   ]
  },
  {
   "cell_type": "code",
   "execution_count": 33,
   "id": "96ef7197",
   "metadata": {},
   "outputs": [
    {
     "data": {
      "text/latex": [
       "$\\displaystyle \\left[\\begin{matrix}\\cos{\\left(\\theta_{3} \\right)} & 0 & \\sin{\\left(\\theta_{3} \\right)} & - H_{3} \\sin{\\left(\\theta_{3} \\right)} + \\left(- L_{1} - L_{2}\\right) \\left(\\cos{\\left(\\theta_{3} \\right)} - 1\\right)\\\\0 & 1 & 0 & 0\\\\- \\sin{\\left(\\theta_{3} \\right)} & 0 & \\cos{\\left(\\theta_{3} \\right)} & - H_{3} \\left(1 - \\cos{\\left(\\theta_{3} \\right)}\\right) + \\left(- L_{1} - L_{2}\\right) \\sin{\\left(\\theta_{3} \\right)}\\\\0 & 0 & 0 & 1\\end{matrix}\\right]$"
      ],
      "text/plain": [
       "Matrix([\n",
       "[ cos(theta3), 0, sin(theta3), -H3*sin(theta3) + (-L1 - L2)*(cos(theta3) - 1)],\n",
       "[           0, 1,           0,                                              0],\n",
       "[-sin(theta3), 0, cos(theta3), -H3*(1 - cos(theta3)) + (-L1 - L2)*sin(theta3)],\n",
       "[           0, 0,           0,                                              1]])"
      ]
     },
     "execution_count": 33,
     "metadata": {},
     "output_type": "execute_result"
    }
   ],
   "source": [
    "Rot3 = Matrix([chooseRotMatrix(w3, theta3)])\n",
    "\n",
    "p3 = G.subs({I: eye(3), theta:theta3, w:skew(w3)}) @ v3\n",
    "\n",
    "eS3 = Matrix([[Rot3.col_insert(3, p3)], [0,0,0,1]])\n",
    "eS3"
   ]
  },
  {
   "cell_type": "code",
   "execution_count": null,
   "id": "240d39b4",
   "metadata": {},
   "outputs": [],
   "source": []
  },
  {
   "cell_type": "code",
   "execution_count": 34,
   "id": "20d73e1b",
   "metadata": {},
   "outputs": [
    {
     "data": {
      "text/latex": [
       "$\\displaystyle \\left[\\begin{matrix}1 & 0 & 0 & 0\\\\0 & \\cos{\\left(\\theta_{4} \\right)} & - \\sin{\\left(\\theta_{4} \\right)} & \\left(H_{1} + H_{3}\\right) \\sin{\\left(\\theta_{4} \\right)}\\\\0 & \\sin{\\left(\\theta_{4} \\right)} & \\cos{\\left(\\theta_{4} \\right)} & \\left(H_{1} + H_{3}\\right) \\left(\\cos{\\left(\\theta_{4} \\right)} - 1\\right)\\\\0 & 0 & 0 & 1\\end{matrix}\\right]$"
      ],
      "text/plain": [
       "Matrix([\n",
       "[1,           0,            0,                           0],\n",
       "[0, cos(theta4), -sin(theta4),       (H1 + H3)*sin(theta4)],\n",
       "[0, sin(theta4),  cos(theta4), (H1 + H3)*(cos(theta4) - 1)],\n",
       "[0,           0,            0,                           1]])"
      ]
     },
     "execution_count": 34,
     "metadata": {},
     "output_type": "execute_result"
    }
   ],
   "source": [
    "Rot4 = Matrix([chooseRotMatrix(w4, theta4)])\n",
    "\n",
    "p4 = G.subs({I: eye(3), theta:theta4, w:skew(w4)}) @ v4\n",
    "\n",
    "eS4 = Matrix([[Rot4.col_insert(3, p4)], [0,0,0,1]])\n",
    "eS4"
   ]
  },
  {
   "cell_type": "code",
   "execution_count": 35,
   "id": "7bf18ea8",
   "metadata": {},
   "outputs": [
    {
     "data": {
      "text/latex": [
       "$\\displaystyle \\left[\\begin{matrix}\\cos{\\left(\\theta_{5} \\right)} & 0 & \\sin{\\left(\\theta_{5} \\right)} & \\left(- H_{1} - H_{3}\\right) \\sin{\\left(\\theta_{5} \\right)} + \\left(\\cos{\\left(\\theta_{5} \\right)} - 1\\right) \\left(- L_{1} - L_{2} - L_{3}\\right)\\\\0 & 1 & 0 & 0\\\\- \\sin{\\left(\\theta_{5} \\right)} & 0 & \\cos{\\left(\\theta_{5} \\right)} & \\left(1 - \\cos{\\left(\\theta_{5} \\right)}\\right) \\left(- H_{1} - H_{3}\\right) + \\left(- L_{1} - L_{2} - L_{3}\\right) \\sin{\\left(\\theta_{5} \\right)}\\\\0 & 0 & 0 & 1\\end{matrix}\\right]$"
      ],
      "text/plain": [
       "Matrix([\n",
       "[ cos(theta5), 0, sin(theta5), (-H1 - H3)*sin(theta5) + (cos(theta5) - 1)*(-L1 - L2 - L3)],\n",
       "[           0, 1,           0,                                                          0],\n",
       "[-sin(theta5), 0, cos(theta5), (1 - cos(theta5))*(-H1 - H3) + (-L1 - L2 - L3)*sin(theta5)],\n",
       "[           0, 0,           0,                                                          1]])"
      ]
     },
     "execution_count": 35,
     "metadata": {},
     "output_type": "execute_result"
    }
   ],
   "source": [
    "Rot5 = Matrix([chooseRotMatrix(w5, theta5)])\n",
    "\n",
    "p5 = G.subs({I: eye(3), theta:theta5, w:skew(w5)}) @ v5\n",
    "\n",
    "eS5 = Matrix([[Rot5.col_insert(3, p5)], [0,0,0,1]])\n",
    "eS5"
   ]
  },
  {
   "cell_type": "code",
   "execution_count": 36,
   "id": "e31a4e31",
   "metadata": {},
   "outputs": [
    {
     "data": {
      "text/latex": [
       "$\\displaystyle \\left[\\begin{matrix}1 & 0 & 0 & \\theta_{6} \\left(H_{1} + H_{3}\\right)\\\\0 & \\cos{\\left(\\theta_{6} \\right)} & - \\sin{\\left(\\theta_{6} \\right)} & 0\\\\0 & \\sin{\\left(\\theta_{6} \\right)} & \\cos{\\left(\\theta_{6} \\right)} & 0\\\\0 & 0 & 0 & 1\\end{matrix}\\right]$"
      ],
      "text/plain": [
       "Matrix([\n",
       "[1,           0,            0, theta6*(H1 + H3)],\n",
       "[0, cos(theta6), -sin(theta6),                0],\n",
       "[0, sin(theta6),  cos(theta6),                0],\n",
       "[0,           0,            0,                1]])"
      ]
     },
     "execution_count": 36,
     "metadata": {},
     "output_type": "execute_result"
    }
   ],
   "source": [
    "Rot6 = Matrix([chooseRotMatrix(w6, theta6)])\n",
    "\n",
    "p6 = G.subs({I: eye(3), theta:theta6, w:skew(w6)}) @ v6\n",
    "\n",
    "eS6 = Matrix([[Rot6.col_insert(3, p6)], [0,0,0,1]])\n",
    "eS6"
   ]
  },
  {
   "cell_type": "code",
   "execution_count": 37,
   "id": "f79429ff",
   "metadata": {},
   "outputs": [
    {
     "data": {
      "text/latex": [
       "$\\displaystyle \\left[\\begin{matrix}\\cos{\\left(\\theta_{5} \\right)} & \\sin{\\left(\\theta_{5} \\right)} \\sin{\\left(\\theta_{6} \\right)} & \\sin{\\left(\\theta_{5} \\right)} \\cos{\\left(\\theta_{6} \\right)} & \\theta_{6} \\left(H_{1} + H_{3}\\right) \\cos{\\left(\\theta_{5} \\right)} + \\left(- H_{1} - H_{3}\\right) \\sin{\\left(\\theta_{5} \\right)} + \\left(\\cos{\\left(\\theta_{5} \\right)} - 1\\right) \\left(- L_{1} - L_{2} - L_{3}\\right)\\\\\\sin{\\left(\\theta_{4} \\right)} \\sin{\\left(\\theta_{5} \\right)} & - \\sin{\\left(\\theta_{4} \\right)} \\sin{\\left(\\theta_{6} \\right)} \\cos{\\left(\\theta_{5} \\right)} + \\cos{\\left(\\theta_{4} \\right)} \\cos{\\left(\\theta_{6} \\right)} & - \\sin{\\left(\\theta_{4} \\right)} \\cos{\\left(\\theta_{5} \\right)} \\cos{\\left(\\theta_{6} \\right)} - \\sin{\\left(\\theta_{6} \\right)} \\cos{\\left(\\theta_{4} \\right)} & \\theta_{6} \\left(H_{1} + H_{3}\\right) \\sin{\\left(\\theta_{4} \\right)} \\sin{\\left(\\theta_{5} \\right)} + \\left(H_{1} + H_{3}\\right) \\sin{\\left(\\theta_{4} \\right)} - \\left(\\left(1 - \\cos{\\left(\\theta_{5} \\right)}\\right) \\left(- H_{1} - H_{3}\\right) + \\left(- L_{1} - L_{2} - L_{3}\\right) \\sin{\\left(\\theta_{5} \\right)}\\right) \\sin{\\left(\\theta_{4} \\right)}\\\\- \\sin{\\left(\\theta_{5} \\right)} \\cos{\\left(\\theta_{4} \\right)} & \\sin{\\left(\\theta_{4} \\right)} \\cos{\\left(\\theta_{6} \\right)} + \\sin{\\left(\\theta_{6} \\right)} \\cos{\\left(\\theta_{4} \\right)} \\cos{\\left(\\theta_{5} \\right)} & - \\sin{\\left(\\theta_{4} \\right)} \\sin{\\left(\\theta_{6} \\right)} + \\cos{\\left(\\theta_{4} \\right)} \\cos{\\left(\\theta_{5} \\right)} \\cos{\\left(\\theta_{6} \\right)} & - \\theta_{6} \\left(H_{1} + H_{3}\\right) \\sin{\\left(\\theta_{5} \\right)} \\cos{\\left(\\theta_{4} \\right)} + \\left(H_{1} + H_{3}\\right) \\left(\\cos{\\left(\\theta_{4} \\right)} - 1\\right) + \\left(\\left(1 - \\cos{\\left(\\theta_{5} \\right)}\\right) \\left(- H_{1} - H_{3}\\right) + \\left(- L_{1} - L_{2} - L_{3}\\right) \\sin{\\left(\\theta_{5} \\right)}\\right) \\cos{\\left(\\theta_{4} \\right)}\\\\0 & 0 & 0 & 1\\end{matrix}\\right]$"
      ],
      "text/plain": [
       "Matrix([\n",
       "[             cos(theta5),                                        sin(theta5)*sin(theta6),                                        sin(theta5)*cos(theta6),                                                          theta6*(H1 + H3)*cos(theta5) + (-H1 - H3)*sin(theta5) + (cos(theta5) - 1)*(-L1 - L2 - L3)],\n",
       "[ sin(theta4)*sin(theta5), -sin(theta4)*sin(theta6)*cos(theta5) + cos(theta4)*cos(theta6), -sin(theta4)*cos(theta5)*cos(theta6) - sin(theta6)*cos(theta4),        theta6*(H1 + H3)*sin(theta4)*sin(theta5) + (H1 + H3)*sin(theta4) - ((1 - cos(theta5))*(-H1 - H3) + (-L1 - L2 - L3)*sin(theta5))*sin(theta4)],\n",
       "[-sin(theta5)*cos(theta4),  sin(theta4)*cos(theta6) + sin(theta6)*cos(theta4)*cos(theta5), -sin(theta4)*sin(theta6) + cos(theta4)*cos(theta5)*cos(theta6), -theta6*(H1 + H3)*sin(theta5)*cos(theta4) + (H1 + H3)*(cos(theta4) - 1) + ((1 - cos(theta5))*(-H1 - H3) + (-L1 - L2 - L3)*sin(theta5))*cos(theta4)],\n",
       "[                       0,                                                              0,                                                              0,                                                                                                                                                  1]])"
      ]
     },
     "execution_count": 37,
     "metadata": {},
     "output_type": "execute_result"
    }
   ],
   "source": [
    "eS4@eS5@eS6"
   ]
  },
  {
   "cell_type": "code",
   "execution_count": null,
   "id": "1ab2fd93",
   "metadata": {},
   "outputs": [],
   "source": []
  },
  {
   "cell_type": "code",
   "execution_count": 38,
   "id": "94b0c2e1",
   "metadata": {},
   "outputs": [
    {
     "data": {
      "text/latex": [
       "$\\displaystyle \\left[\\begin{matrix}0 & 0 & -1 & L_{1} + L_{2} + L_{3} + L_{4}\\\\0 & -1 & 0 & 0\\\\-1 & 0 & 0 & 0\\\\0 & 0 & 0 & 1\\end{matrix}\\right]$"
      ],
      "text/plain": [
       "Matrix([\n",
       "[ 0,  0, -1, L1 + L2 + L3 + L4],\n",
       "[ 0, -1,  0,                 0],\n",
       "[-1,  0,  0,                 0],\n",
       "[ 0,  0,  0,                 1]])"
      ]
     },
     "execution_count": 38,
     "metadata": {},
     "output_type": "execute_result"
    }
   ],
   "source": [
    "\n",
    "M = Matrix([[0,0,-1,L1+L2+L3+L4], [0,-1,0,0], [-1,0,0, 0], [0,0,0,1]])\n",
    "M"
   ]
  },
  {
   "cell_type": "code",
   "execution_count": 39,
   "id": "8c89ea29",
   "metadata": {},
   "outputs": [
    {
     "data": {
      "text/latex": [
       "$\\displaystyle \\left[\\begin{matrix}0 & 0 & -1 & 0\\\\0 & -1 & 0 & 0\\\\-1 & 0 & 0 & L_{1} + L_{2} + L_{3} + L_{4}\\\\0 & 0 & 0 & 1\\end{matrix}\\right]$"
      ],
      "text/plain": [
       "Matrix([\n",
       "[ 0,  0, -1,                 0],\n",
       "[ 0, -1,  0,                 0],\n",
       "[-1,  0,  0, L1 + L2 + L3 + L4],\n",
       "[ 0,  0,  0,                 1]])"
      ]
     },
     "execution_count": 39,
     "metadata": {},
     "output_type": "execute_result"
    }
   ],
   "source": [
    "M_inv = M.inv()\n",
    "M_inv"
   ]
  },
  {
   "cell_type": "code",
   "execution_count": null,
   "id": "e7305cc9",
   "metadata": {},
   "outputs": [],
   "source": []
  },
  {
   "cell_type": "code",
   "execution_count": 51,
   "id": "49f7dfbb",
   "metadata": {},
   "outputs": [
    {
     "data": {
      "text/latex": [
       "$\\displaystyle \\left[\\begin{matrix}x_{11} & x_{12} & x_{13} & 220.0\\\\x_{21} & x_{22} & x_{23} & 400.0\\\\x_{31} & x_{32} & x_{33} & 0\\\\0 & 0 & 0 & 1\\end{matrix}\\right]$"
      ],
      "text/plain": [
       "Matrix([\n",
       "[x11, x12, x13, 220.0],\n",
       "[x21, x22, x23, 400.0],\n",
       "[x31, x32, x33,     0],\n",
       "[  0,   0,   0,     1]])"
      ]
     },
     "execution_count": 51,
     "metadata": {},
     "output_type": "execute_result"
    }
   ],
   "source": [
    "\n",
    "l1 = 25.0\n",
    "l2 = 455.0\n",
    "l3 = 420.0\n",
    "l4 = 80.0\n",
    "h1 = 400.0\n",
    "h3 = 35.0\n",
    "\n",
    "\n",
    "# P = Desired point\n",
    "Px = 300\n",
    "Py = 400\n",
    "Pz = 0\n",
    "(r11,r12,r13,r21,r22,r23,r31,r32,r33) = ( 0, 0, 1,\n",
    "                                          0,-1, 0,\n",
    "                                          1, 0, 0)\n",
    "# W = wrist center\n",
    "Wx = Px - l4*r13 # Wrist center is translated l4 along the z-axis from the desired pose\n",
    "Wy = Py - l4*r23\n",
    "Wz = Pz - l4*r33\n",
    "\n",
    "\n",
    "\n",
    "\n",
    "r = sqrt(x**2 + y**2)\n",
    "R2 = r-L1\n",
    "Z2 = z-H1\n",
    "C2 = sqrt(r2**2 + z2**2)\n",
    "C3 = sqrt(L3**2 + H3**2)\n",
    "Z3 = C3*sin(phi2)\n",
    "R3 = C3*cos(phi2)\n",
    "\n",
    "betaVal = Beta.subs({c2:C2, c3:C3}).subs({r2:R2, z2:Z2}).subs({ L1:l1, L2:l2, L3:l3, H1:h1, H3:h3, x:Wx, y:Wy, z:Wz}).rhs\n",
    "\n",
    "\n",
    "# Elbow down\n",
    "theta3_eq_elbow_down = theta3_eq_elbow_down.subs({beta:betaVal, H3:h3, L3:l3})\n",
    "theta2_eq_elbow_down = theta2_eq_elbow_down.subs({z3:Z3, r3:R3, z2:Z2, r2:R2, L2:l2}).subs(phi2,phi2_eq.rhs).subs(\n",
    "    {beta:betaVal, L1:l1, L2:l2, L3:l3, H1:h1, H3:h3, x:Wx, y:Wy, z:Wz})\n",
    "\n",
    "# Elbow up\n",
    "theta3_eq_elbow_up = theta3_eq_elbow_up.subs({beta:betaVal, H3:h3, L3:l3})\n",
    "theta2_eq_elbow_up = theta2_eq_elbow_up.subs({z3:Z3, r3:R3, z2:Z2, r2:R2, L2:l2}).subs(phi2,phi2_eq.rhs).subs(\n",
    "    {beta:betaVal, L1:l1, L2:l2, L3:l3, H1:h1, H3:h3, x:Wx, y:Wy, z:Wz})\n",
    "\n",
    "\n",
    "theta1_eq = theta1_eq.subs({x:Wx, y:Wy})\n",
    "\n",
    "# X = Desired pose of wrist center\n",
    "#X = Matrix([[r11,r12,r13,Wx], [r21,r22,r23,Wy], [r31,r32,r33,Wz], [0,0,0,1]])\n",
    "x11, x12, x13, x21, x22, x23, x31, x32, x33 = symbols('x11, x12, x13, x21, x22, x23, x31, x32, x33')\n",
    "X = Matrix([[x11, x12, x13, Wx], [x21, x22, x23, Wy], [x31, x32, x33, Wz], [0, 0, 0, 1]])\n",
    "\n",
    "X"
   ]
  },
  {
   "cell_type": "code",
   "execution_count": 52,
   "id": "096dad29",
   "metadata": {},
   "outputs": [
    {
     "data": {
      "text/latex": [
       "$\\displaystyle \\left[\\begin{matrix}\\cos{\\left(\\theta_{5} \\right)} & \\sin{\\left(\\theta_{5} \\right)} \\sin{\\left(\\theta_{6} \\right)} & \\sin{\\left(\\theta_{5} \\right)} \\cos{\\left(\\theta_{6} \\right)} & \\theta_{6} \\left(H_{1} + H_{3}\\right) \\cos{\\left(\\theta_{5} \\right)} + \\left(- H_{1} - H_{3}\\right) \\sin{\\left(\\theta_{5} \\right)} + \\left(\\cos{\\left(\\theta_{5} \\right)} - 1\\right) \\left(- L_{1} - L_{2} - L_{3}\\right)\\\\\\sin{\\left(\\theta_{4} \\right)} \\sin{\\left(\\theta_{5} \\right)} & - \\sin{\\left(\\theta_{4} \\right)} \\sin{\\left(\\theta_{6} \\right)} \\cos{\\left(\\theta_{5} \\right)} + \\cos{\\left(\\theta_{4} \\right)} \\cos{\\left(\\theta_{6} \\right)} & - \\sin{\\left(\\theta_{4} \\right)} \\cos{\\left(\\theta_{5} \\right)} \\cos{\\left(\\theta_{6} \\right)} - \\sin{\\left(\\theta_{6} \\right)} \\cos{\\left(\\theta_{4} \\right)} & \\theta_{6} \\left(H_{1} + H_{3}\\right) \\sin{\\left(\\theta_{4} \\right)} \\sin{\\left(\\theta_{5} \\right)} + \\left(H_{1} + H_{3}\\right) \\sin{\\left(\\theta_{4} \\right)} - \\left(\\left(1 - \\cos{\\left(\\theta_{5} \\right)}\\right) \\left(- H_{1} - H_{3}\\right) + \\left(- L_{1} - L_{2} - L_{3}\\right) \\sin{\\left(\\theta_{5} \\right)}\\right) \\sin{\\left(\\theta_{4} \\right)}\\\\- \\sin{\\left(\\theta_{5} \\right)} \\cos{\\left(\\theta_{4} \\right)} & \\sin{\\left(\\theta_{4} \\right)} \\cos{\\left(\\theta_{6} \\right)} + \\sin{\\left(\\theta_{6} \\right)} \\cos{\\left(\\theta_{4} \\right)} \\cos{\\left(\\theta_{5} \\right)} & - \\sin{\\left(\\theta_{4} \\right)} \\sin{\\left(\\theta_{6} \\right)} + \\cos{\\left(\\theta_{4} \\right)} \\cos{\\left(\\theta_{5} \\right)} \\cos{\\left(\\theta_{6} \\right)} & - \\theta_{6} \\left(H_{1} + H_{3}\\right) \\sin{\\left(\\theta_{5} \\right)} \\cos{\\left(\\theta_{4} \\right)} + \\left(H_{1} + H_{3}\\right) \\left(\\cos{\\left(\\theta_{4} \\right)} - 1\\right) + \\left(\\left(1 - \\cos{\\left(\\theta_{5} \\right)}\\right) \\left(- H_{1} - H_{3}\\right) + \\left(- L_{1} - L_{2} - L_{3}\\right) \\sin{\\left(\\theta_{5} \\right)}\\right) \\cos{\\left(\\theta_{4} \\right)}\\\\0 & 0 & 0 & 1\\end{matrix}\\right] = \\left[\\begin{matrix}- x_{13} \\left(- \\sin{\\left(\\theta_{2} \\right)} \\sin{\\left(\\theta_{3} \\right)} + \\cos{\\left(\\theta_{2} \\right)} \\cos{\\left(\\theta_{3} \\right)}\\right) \\cos{\\left(\\theta_{1} \\right)} - x_{23} \\left(- \\sin{\\left(\\theta_{2} \\right)} \\sin{\\left(\\theta_{3} \\right)} + \\cos{\\left(\\theta_{2} \\right)} \\cos{\\left(\\theta_{3} \\right)}\\right) \\sin{\\left(\\theta_{1} \\right)} - x_{33} \\left(- \\sin{\\left(\\theta_{2} \\right)} \\cos{\\left(\\theta_{3} \\right)} - \\sin{\\left(\\theta_{3} \\right)} \\cos{\\left(\\theta_{2} \\right)}\\right) & - x_{12} \\left(- \\sin{\\left(\\theta_{2} \\right)} \\sin{\\left(\\theta_{3} \\right)} + \\cos{\\left(\\theta_{2} \\right)} \\cos{\\left(\\theta_{3} \\right)}\\right) \\cos{\\left(\\theta_{1} \\right)} - x_{22} \\left(- \\sin{\\left(\\theta_{2} \\right)} \\sin{\\left(\\theta_{3} \\right)} + \\cos{\\left(\\theta_{2} \\right)} \\cos{\\left(\\theta_{3} \\right)}\\right) \\sin{\\left(\\theta_{1} \\right)} - x_{32} \\left(- \\sin{\\left(\\theta_{2} \\right)} \\cos{\\left(\\theta_{3} \\right)} - \\sin{\\left(\\theta_{3} \\right)} \\cos{\\left(\\theta_{2} \\right)}\\right) & - x_{11} \\left(- \\sin{\\left(\\theta_{2} \\right)} \\sin{\\left(\\theta_{3} \\right)} + \\cos{\\left(\\theta_{2} \\right)} \\cos{\\left(\\theta_{3} \\right)}\\right) \\cos{\\left(\\theta_{1} \\right)} - x_{21} \\left(- \\sin{\\left(\\theta_{2} \\right)} \\sin{\\left(\\theta_{3} \\right)} + \\cos{\\left(\\theta_{2} \\right)} \\cos{\\left(\\theta_{3} \\right)}\\right) \\sin{\\left(\\theta_{1} \\right)} - x_{31} \\left(- \\sin{\\left(\\theta_{2} \\right)} \\cos{\\left(\\theta_{3} \\right)} - \\sin{\\left(\\theta_{3} \\right)} \\cos{\\left(\\theta_{2} \\right)}\\right) & \\left(- H_{3} \\left(1 - \\cos{\\left(\\theta_{3} \\right)}\\right) + \\left(- L_{1} - L_{2}\\right) \\sin{\\left(\\theta_{3} \\right)}\\right) \\sin{\\left(\\theta_{3} \\right)} - \\left(- H_{3} \\sin{\\left(\\theta_{3} \\right)} + \\left(- L_{1} - L_{2}\\right) \\left(\\cos{\\left(\\theta_{3} \\right)} - 1\\right)\\right) \\cos{\\left(\\theta_{3} \\right)} + \\left(\\left(- H_{1} \\left(1 - \\cos{\\left(\\theta_{2} \\right)}\\right) - L_{1} \\sin{\\left(\\theta_{2} \\right)}\\right) \\sin{\\left(\\theta_{2} \\right)} - \\left(- H_{1} \\sin{\\left(\\theta_{2} \\right)} - L_{1} \\left(\\cos{\\left(\\theta_{2} \\right)} - 1\\right)\\right) \\cos{\\left(\\theta_{2} \\right)}\\right) \\cos{\\left(\\theta_{3} \\right)} - \\left(- \\left(- H_{1} \\left(1 - \\cos{\\left(\\theta_{2} \\right)}\\right) - L_{1} \\sin{\\left(\\theta_{2} \\right)}\\right) \\cos{\\left(\\theta_{2} \\right)} - \\left(- H_{1} \\sin{\\left(\\theta_{2} \\right)} - L_{1} \\left(\\cos{\\left(\\theta_{2} \\right)} - 1\\right)\\right) \\sin{\\left(\\theta_{2} \\right)}\\right) \\sin{\\left(\\theta_{3} \\right)} + 400.0 \\left(- \\sin{\\left(\\theta_{2} \\right)} \\sin{\\left(\\theta_{3} \\right)} + \\cos{\\left(\\theta_{2} \\right)} \\cos{\\left(\\theta_{3} \\right)}\\right) \\sin{\\left(\\theta_{1} \\right)} + 220.0 \\left(- \\sin{\\left(\\theta_{2} \\right)} \\sin{\\left(\\theta_{3} \\right)} + \\cos{\\left(\\theta_{2} \\right)} \\cos{\\left(\\theta_{3} \\right)}\\right) \\cos{\\left(\\theta_{1} \\right)} + \\left(x_{13} \\left(- \\sin{\\left(\\theta_{2} \\right)} \\sin{\\left(\\theta_{3} \\right)} + \\cos{\\left(\\theta_{2} \\right)} \\cos{\\left(\\theta_{3} \\right)}\\right) \\cos{\\left(\\theta_{1} \\right)} + x_{23} \\left(- \\sin{\\left(\\theta_{2} \\right)} \\sin{\\left(\\theta_{3} \\right)} + \\cos{\\left(\\theta_{2} \\right)} \\cos{\\left(\\theta_{3} \\right)}\\right) \\sin{\\left(\\theta_{1} \\right)} + x_{33} \\left(- \\sin{\\left(\\theta_{2} \\right)} \\cos{\\left(\\theta_{3} \\right)} - \\sin{\\left(\\theta_{3} \\right)} \\cos{\\left(\\theta_{2} \\right)}\\right)\\right) \\left(L_{1} + L_{2} + L_{3} + L_{4}\\right)\\\\x_{13} \\sin{\\left(\\theta_{1} \\right)} - x_{23} \\cos{\\left(\\theta_{1} \\right)} & x_{12} \\sin{\\left(\\theta_{1} \\right)} - x_{22} \\cos{\\left(\\theta_{1} \\right)} & x_{11} \\sin{\\left(\\theta_{1} \\right)} - x_{21} \\cos{\\left(\\theta_{1} \\right)} & \\left(- x_{13} \\sin{\\left(\\theta_{1} \\right)} + x_{23} \\cos{\\left(\\theta_{1} \\right)}\\right) \\left(L_{1} + L_{2} + L_{3} + L_{4}\\right) - 220.0 \\sin{\\left(\\theta_{1} \\right)} + 400.0 \\cos{\\left(\\theta_{1} \\right)}\\\\- x_{13} \\left(\\sin{\\left(\\theta_{2} \\right)} \\cos{\\left(\\theta_{3} \\right)} + \\sin{\\left(\\theta_{3} \\right)} \\cos{\\left(\\theta_{2} \\right)}\\right) \\cos{\\left(\\theta_{1} \\right)} - x_{23} \\left(\\sin{\\left(\\theta_{2} \\right)} \\cos{\\left(\\theta_{3} \\right)} + \\sin{\\left(\\theta_{3} \\right)} \\cos{\\left(\\theta_{2} \\right)}\\right) \\sin{\\left(\\theta_{1} \\right)} - x_{33} \\left(- \\sin{\\left(\\theta_{2} \\right)} \\sin{\\left(\\theta_{3} \\right)} + \\cos{\\left(\\theta_{2} \\right)} \\cos{\\left(\\theta_{3} \\right)}\\right) & - x_{12} \\left(\\sin{\\left(\\theta_{2} \\right)} \\cos{\\left(\\theta_{3} \\right)} + \\sin{\\left(\\theta_{3} \\right)} \\cos{\\left(\\theta_{2} \\right)}\\right) \\cos{\\left(\\theta_{1} \\right)} - x_{22} \\left(\\sin{\\left(\\theta_{2} \\right)} \\cos{\\left(\\theta_{3} \\right)} + \\sin{\\left(\\theta_{3} \\right)} \\cos{\\left(\\theta_{2} \\right)}\\right) \\sin{\\left(\\theta_{1} \\right)} - x_{32} \\left(- \\sin{\\left(\\theta_{2} \\right)} \\sin{\\left(\\theta_{3} \\right)} + \\cos{\\left(\\theta_{2} \\right)} \\cos{\\left(\\theta_{3} \\right)}\\right) & - x_{11} \\left(\\sin{\\left(\\theta_{2} \\right)} \\cos{\\left(\\theta_{3} \\right)} + \\sin{\\left(\\theta_{3} \\right)} \\cos{\\left(\\theta_{2} \\right)}\\right) \\cos{\\left(\\theta_{1} \\right)} - x_{21} \\left(\\sin{\\left(\\theta_{2} \\right)} \\cos{\\left(\\theta_{3} \\right)} + \\sin{\\left(\\theta_{3} \\right)} \\cos{\\left(\\theta_{2} \\right)}\\right) \\sin{\\left(\\theta_{1} \\right)} - x_{31} \\left(- \\sin{\\left(\\theta_{2} \\right)} \\sin{\\left(\\theta_{3} \\right)} + \\cos{\\left(\\theta_{2} \\right)} \\cos{\\left(\\theta_{3} \\right)}\\right) & - \\left(- H_{3} \\left(1 - \\cos{\\left(\\theta_{3} \\right)}\\right) + \\left(- L_{1} - L_{2}\\right) \\sin{\\left(\\theta_{3} \\right)}\\right) \\cos{\\left(\\theta_{3} \\right)} - \\left(- H_{3} \\sin{\\left(\\theta_{3} \\right)} + \\left(- L_{1} - L_{2}\\right) \\left(\\cos{\\left(\\theta_{3} \\right)} - 1\\right)\\right) \\sin{\\left(\\theta_{3} \\right)} + \\left(\\left(- H_{1} \\left(1 - \\cos{\\left(\\theta_{2} \\right)}\\right) - L_{1} \\sin{\\left(\\theta_{2} \\right)}\\right) \\sin{\\left(\\theta_{2} \\right)} - \\left(- H_{1} \\sin{\\left(\\theta_{2} \\right)} - L_{1} \\left(\\cos{\\left(\\theta_{2} \\right)} - 1\\right)\\right) \\cos{\\left(\\theta_{2} \\right)}\\right) \\sin{\\left(\\theta_{3} \\right)} + \\left(- \\left(- H_{1} \\left(1 - \\cos{\\left(\\theta_{2} \\right)}\\right) - L_{1} \\sin{\\left(\\theta_{2} \\right)}\\right) \\cos{\\left(\\theta_{2} \\right)} - \\left(- H_{1} \\sin{\\left(\\theta_{2} \\right)} - L_{1} \\left(\\cos{\\left(\\theta_{2} \\right)} - 1\\right)\\right) \\sin{\\left(\\theta_{2} \\right)}\\right) \\cos{\\left(\\theta_{3} \\right)} + 400.0 \\left(\\sin{\\left(\\theta_{2} \\right)} \\cos{\\left(\\theta_{3} \\right)} + \\sin{\\left(\\theta_{3} \\right)} \\cos{\\left(\\theta_{2} \\right)}\\right) \\sin{\\left(\\theta_{1} \\right)} + 220.0 \\left(\\sin{\\left(\\theta_{2} \\right)} \\cos{\\left(\\theta_{3} \\right)} + \\sin{\\left(\\theta_{3} \\right)} \\cos{\\left(\\theta_{2} \\right)}\\right) \\cos{\\left(\\theta_{1} \\right)} + \\left(x_{13} \\left(\\sin{\\left(\\theta_{2} \\right)} \\cos{\\left(\\theta_{3} \\right)} + \\sin{\\left(\\theta_{3} \\right)} \\cos{\\left(\\theta_{2} \\right)}\\right) \\cos{\\left(\\theta_{1} \\right)} + x_{23} \\left(\\sin{\\left(\\theta_{2} \\right)} \\cos{\\left(\\theta_{3} \\right)} + \\sin{\\left(\\theta_{3} \\right)} \\cos{\\left(\\theta_{2} \\right)}\\right) \\sin{\\left(\\theta_{1} \\right)} + x_{33} \\left(- \\sin{\\left(\\theta_{2} \\right)} \\sin{\\left(\\theta_{3} \\right)} + \\cos{\\left(\\theta_{2} \\right)} \\cos{\\left(\\theta_{3} \\right)}\\right)\\right) \\left(L_{1} + L_{2} + L_{3} + L_{4}\\right)\\\\0 & 0 & 0 & 1\\end{matrix}\\right]$"
      ],
      "text/plain": [
       "Eq(Matrix([\n",
       "[             cos(theta5),                                        sin(theta5)*sin(theta6),                                        sin(theta5)*cos(theta6),                                                          theta6*(H1 + H3)*cos(theta5) + (-H1 - H3)*sin(theta5) + (cos(theta5) - 1)*(-L1 - L2 - L3)],\n",
       "[ sin(theta4)*sin(theta5), -sin(theta4)*sin(theta6)*cos(theta5) + cos(theta4)*cos(theta6), -sin(theta4)*cos(theta5)*cos(theta6) - sin(theta6)*cos(theta4),        theta6*(H1 + H3)*sin(theta4)*sin(theta5) + (H1 + H3)*sin(theta4) - ((1 - cos(theta5))*(-H1 - H3) + (-L1 - L2 - L3)*sin(theta5))*sin(theta4)],\n",
       "[-sin(theta5)*cos(theta4),  sin(theta4)*cos(theta6) + sin(theta6)*cos(theta4)*cos(theta5), -sin(theta4)*sin(theta6) + cos(theta4)*cos(theta5)*cos(theta6), -theta6*(H1 + H3)*sin(theta5)*cos(theta4) + (H1 + H3)*(cos(theta4) - 1) + ((1 - cos(theta5))*(-H1 - H3) + (-L1 - L2 - L3)*sin(theta5))*cos(theta4)],\n",
       "[                       0,                                                              0,                                                              0,                                                                                                                                                  1]]), Matrix([\n",
       "[-x13*(-sin(theta2)*sin(theta3) + cos(theta2)*cos(theta3))*cos(theta1) - x23*(-sin(theta2)*sin(theta3) + cos(theta2)*cos(theta3))*sin(theta1) - x33*(-sin(theta2)*cos(theta3) - sin(theta3)*cos(theta2)), -x12*(-sin(theta2)*sin(theta3) + cos(theta2)*cos(theta3))*cos(theta1) - x22*(-sin(theta2)*sin(theta3) + cos(theta2)*cos(theta3))*sin(theta1) - x32*(-sin(theta2)*cos(theta3) - sin(theta3)*cos(theta2)), -x11*(-sin(theta2)*sin(theta3) + cos(theta2)*cos(theta3))*cos(theta1) - x21*(-sin(theta2)*sin(theta3) + cos(theta2)*cos(theta3))*sin(theta1) - x31*(-sin(theta2)*cos(theta3) - sin(theta3)*cos(theta2)), (-H3*(1 - cos(theta3)) + (-L1 - L2)*sin(theta3))*sin(theta3) - (-H3*sin(theta3) + (-L1 - L2)*(cos(theta3) - 1))*cos(theta3) + ((-H1*(1 - cos(theta2)) - L1*sin(theta2))*sin(theta2) - (-H1*sin(theta2) - L1*(cos(theta2) - 1))*cos(theta2))*cos(theta3) - (-(-H1*(1 - cos(theta2)) - L1*sin(theta2))*cos(theta2) - (-H1*sin(theta2) - L1*(cos(theta2) - 1))*sin(theta2))*sin(theta3) + 400.0*(-sin(theta2)*sin(theta3) + cos(theta2)*cos(theta3))*sin(theta1) + 220.0*(-sin(theta2)*sin(theta3) + cos(theta2)*cos(theta3))*cos(theta1) + (x13*(-sin(theta2)*sin(theta3) + cos(theta2)*cos(theta3))*cos(theta1) + x23*(-sin(theta2)*sin(theta3) + cos(theta2)*cos(theta3))*sin(theta1) + x33*(-sin(theta2)*cos(theta3) - sin(theta3)*cos(theta2)))*(L1 + L2 + L3 + L4)],\n",
       "[                                                                                                                                                                      x13*sin(theta1) - x23*cos(theta1),                                                                                                                                                                       x12*sin(theta1) - x22*cos(theta1),                                                                                                                                                                       x11*sin(theta1) - x21*cos(theta1),                                                                                                                                                                                                                                                                                                                                                                                                                                                                                                                                                                                                                                                                      (-x13*sin(theta1) + x23*cos(theta1))*(L1 + L2 + L3 + L4) - 220.0*sin(theta1) + 400.0*cos(theta1)],\n",
       "[  -x13*(sin(theta2)*cos(theta3) + sin(theta3)*cos(theta2))*cos(theta1) - x23*(sin(theta2)*cos(theta3) + sin(theta3)*cos(theta2))*sin(theta1) - x33*(-sin(theta2)*sin(theta3) + cos(theta2)*cos(theta3)),   -x12*(sin(theta2)*cos(theta3) + sin(theta3)*cos(theta2))*cos(theta1) - x22*(sin(theta2)*cos(theta3) + sin(theta3)*cos(theta2))*sin(theta1) - x32*(-sin(theta2)*sin(theta3) + cos(theta2)*cos(theta3)),   -x11*(sin(theta2)*cos(theta3) + sin(theta3)*cos(theta2))*cos(theta1) - x21*(sin(theta2)*cos(theta3) + sin(theta3)*cos(theta2))*sin(theta1) - x31*(-sin(theta2)*sin(theta3) + cos(theta2)*cos(theta3)),    -(-H3*(1 - cos(theta3)) + (-L1 - L2)*sin(theta3))*cos(theta3) - (-H3*sin(theta3) + (-L1 - L2)*(cos(theta3) - 1))*sin(theta3) + ((-H1*(1 - cos(theta2)) - L1*sin(theta2))*sin(theta2) - (-H1*sin(theta2) - L1*(cos(theta2) - 1))*cos(theta2))*sin(theta3) + (-(-H1*(1 - cos(theta2)) - L1*sin(theta2))*cos(theta2) - (-H1*sin(theta2) - L1*(cos(theta2) - 1))*sin(theta2))*cos(theta3) + 400.0*(sin(theta2)*cos(theta3) + sin(theta3)*cos(theta2))*sin(theta1) + 220.0*(sin(theta2)*cos(theta3) + sin(theta3)*cos(theta2))*cos(theta1) + (x13*(sin(theta2)*cos(theta3) + sin(theta3)*cos(theta2))*cos(theta1) + x23*(sin(theta2)*cos(theta3) + sin(theta3)*cos(theta2))*sin(theta1) + x33*(-sin(theta2)*sin(theta3) + cos(theta2)*cos(theta3)))*(L1 + L2 + L3 + L4)],\n",
       "[                                                                                                                                                                                                      0,                                                                                                                                                                                                       0,                                                                                                                                                                                                       0,                                                                                                                                                                                                                                                                                                                                                                                                                                                                                                                                                                                                                                                                                                                                                                     1]]))"
      ]
     },
     "execution_count": 52,
     "metadata": {},
     "output_type": "execute_result"
    }
   ],
   "source": [
    "\n",
    "\n",
    "\n",
    "\n",
    "finalEq = Eq(eS4@eS5@eS6, mr.TransInv(eS3)@mr.TransInv(eS2)@mr.TransInv(eS1)@X@M_inv)\n",
    "\n",
    "finalEq"
   ]
  },
  {
   "cell_type": "code",
   "execution_count": 424,
   "id": "5e8ee847",
   "metadata": {},
   "outputs": [
    {
     "data": {
      "text/latex": [
       "$\\displaystyle \\left[\\begin{matrix}- \\left(- \\sin{\\left(\\theta_{2} \\right)} \\sin{\\left(\\theta_{3} \\right)} + \\cos{\\left(\\theta_{2} \\right)} \\cos{\\left(\\theta_{3} \\right)}\\right) \\cos{\\left(\\theta_{1} \\right)} & \\left(- \\sin{\\left(\\theta_{2} \\right)} \\sin{\\left(\\theta_{3} \\right)} + \\cos{\\left(\\theta_{2} \\right)} \\cos{\\left(\\theta_{3} \\right)}\\right) \\sin{\\left(\\theta_{1} \\right)} & \\sin{\\left(\\theta_{2} \\right)} \\cos{\\left(\\theta_{3} \\right)} + \\sin{\\left(\\theta_{3} \\right)} \\cos{\\left(\\theta_{2} \\right)}\\\\\\sin{\\left(\\theta_{1} \\right)} & \\cos{\\left(\\theta_{1} \\right)} & 0\\\\- \\left(\\sin{\\left(\\theta_{2} \\right)} \\cos{\\left(\\theta_{3} \\right)} + \\sin{\\left(\\theta_{3} \\right)} \\cos{\\left(\\theta_{2} \\right)}\\right) \\cos{\\left(\\theta_{1} \\right)} & \\left(\\sin{\\left(\\theta_{2} \\right)} \\cos{\\left(\\theta_{3} \\right)} + \\sin{\\left(\\theta_{3} \\right)} \\cos{\\left(\\theta_{2} \\right)}\\right) \\sin{\\left(\\theta_{1} \\right)} & \\sin{\\left(\\theta_{2} \\right)} \\sin{\\left(\\theta_{3} \\right)} - \\cos{\\left(\\theta_{2} \\right)} \\cos{\\left(\\theta_{3} \\right)}\\end{matrix}\\right]$"
      ],
      "text/plain": [
       "Matrix([\n",
       "[-(-sin(theta2)*sin(theta3) + cos(theta2)*cos(theta3))*cos(theta1), (-sin(theta2)*sin(theta3) + cos(theta2)*cos(theta3))*sin(theta1), sin(theta2)*cos(theta3) + sin(theta3)*cos(theta2)],\n",
       "[                                                      sin(theta1),                                                      cos(theta1),                                                 0],\n",
       "[ -(sin(theta2)*cos(theta3) + sin(theta3)*cos(theta2))*cos(theta1),  (sin(theta2)*cos(theta3) + sin(theta3)*cos(theta2))*sin(theta1), sin(theta2)*sin(theta3) - cos(theta2)*cos(theta3)]])"
      ]
     },
     "execution_count": 424,
     "metadata": {},
     "output_type": "execute_result"
    }
   ],
   "source": [
    "Matrix(mr.TransToRp(finalEq.rhs)[0])"
   ]
  },
  {
   "cell_type": "code",
   "execution_count": null,
   "id": "fead4531",
   "metadata": {},
   "outputs": [],
   "source": []
  },
  {
   "cell_type": "code",
   "execution_count": null,
   "id": "7b41bda3",
   "metadata": {},
   "outputs": [],
   "source": []
  },
  {
   "cell_type": "code",
   "execution_count": 425,
   "id": "791e2faf",
   "metadata": {},
   "outputs": [
    {
     "data": {
      "text/latex": [
       "$\\displaystyle \\left[\\begin{matrix}\\cos{\\left(\\theta_{5} \\right)} & \\sin{\\left(\\theta_{5} \\right)} \\sin{\\left(\\theta_{6} \\right)} & \\sin{\\left(\\theta_{5} \\right)} \\cos{\\left(\\theta_{6} \\right)} & 435.0 \\theta_{6} \\cos{\\left(\\theta_{5} \\right)} - 435.0 \\sin{\\left(\\theta_{5} \\right)} - 900.0 \\cos{\\left(\\theta_{5} \\right)} + 900.0\\\\\\sin{\\left(\\theta_{4} \\right)} \\sin{\\left(\\theta_{5} \\right)} & - \\sin{\\left(\\theta_{4} \\right)} \\sin{\\left(\\theta_{6} \\right)} \\cos{\\left(\\theta_{5} \\right)} + \\cos{\\left(\\theta_{4} \\right)} \\cos{\\left(\\theta_{6} \\right)} & - \\sin{\\left(\\theta_{4} \\right)} \\cos{\\left(\\theta_{5} \\right)} \\cos{\\left(\\theta_{6} \\right)} - \\sin{\\left(\\theta_{6} \\right)} \\cos{\\left(\\theta_{4} \\right)} & 435.0 \\theta_{6} \\sin{\\left(\\theta_{4} \\right)} \\sin{\\left(\\theta_{5} \\right)} - \\left(- 900.0 \\sin{\\left(\\theta_{5} \\right)} + 435.0 \\cos{\\left(\\theta_{5} \\right)} - 435.0\\right) \\sin{\\left(\\theta_{4} \\right)} + 435.0 \\sin{\\left(\\theta_{4} \\right)}\\\\- \\sin{\\left(\\theta_{5} \\right)} \\cos{\\left(\\theta_{4} \\right)} & \\sin{\\left(\\theta_{4} \\right)} \\cos{\\left(\\theta_{6} \\right)} + \\sin{\\left(\\theta_{6} \\right)} \\cos{\\left(\\theta_{4} \\right)} \\cos{\\left(\\theta_{5} \\right)} & - \\sin{\\left(\\theta_{4} \\right)} \\sin{\\left(\\theta_{6} \\right)} + \\cos{\\left(\\theta_{4} \\right)} \\cos{\\left(\\theta_{5} \\right)} \\cos{\\left(\\theta_{6} \\right)} & - 435.0 \\theta_{6} \\sin{\\left(\\theta_{5} \\right)} \\cos{\\left(\\theta_{4} \\right)} + \\left(- 900.0 \\sin{\\left(\\theta_{5} \\right)} + 435.0 \\cos{\\left(\\theta_{5} \\right)} - 435.0\\right) \\cos{\\left(\\theta_{4} \\right)} + 435.0 \\cos{\\left(\\theta_{4} \\right)} - 435.0\\\\0 & 0 & 0 & 1\\end{matrix}\\right] = \\left[\\begin{matrix}0.066186878407658 & -0.120339778923015 & -0.990523919315132 & -441.943554512362\\\\0.876215908676647 & 0.481918749772156 & 0 & -858.691590503114\\\\0.477352048815764 & -0.867912816028662 & 0.137340326432516 & -267.807212802064\\\\0 & 0 & 0 & 1\\end{matrix}\\right]$"
      ],
      "text/plain": [
       "Eq(Matrix([\n",
       "[             cos(theta5),                                        sin(theta5)*sin(theta6),                                        sin(theta5)*cos(theta6),                                                         435.0*theta6*cos(theta5) - 435.0*sin(theta5) - 900.0*cos(theta5) + 900.0],\n",
       "[ sin(theta4)*sin(theta5), -sin(theta4)*sin(theta6)*cos(theta5) + cos(theta4)*cos(theta6), -sin(theta4)*cos(theta5)*cos(theta6) - sin(theta6)*cos(theta4),          435.0*theta6*sin(theta4)*sin(theta5) - (-900.0*sin(theta5) + 435.0*cos(theta5) - 435.0)*sin(theta4) + 435.0*sin(theta4)],\n",
       "[-sin(theta5)*cos(theta4),  sin(theta4)*cos(theta6) + sin(theta6)*cos(theta4)*cos(theta5), -sin(theta4)*sin(theta6) + cos(theta4)*cos(theta5)*cos(theta6), -435.0*theta6*sin(theta5)*cos(theta4) + (-900.0*sin(theta5) + 435.0*cos(theta5) - 435.0)*cos(theta4) + 435.0*cos(theta4) - 435.0],\n",
       "[                       0,                                                              0,                                                              0,                                                                                                                                1]]), Matrix([\n",
       "[0.066186878407658, -0.120339778923015, -0.990523919315132, -441.943554512362],\n",
       "[0.876215908676647,  0.481918749772156,                  0, -858.691590503114],\n",
       "[0.477352048815764, -0.867912816028662,  0.137340326432516, -267.807212802064],\n",
       "[                0,                  0,                  0,                 1]]))"
      ]
     },
     "execution_count": 425,
     "metadata": {},
     "output_type": "execute_result"
    }
   ],
   "source": [
    "\n",
    "### ELBOW UP ###\n",
    "finalEq_eUp = finalEq.subs({theta1:theta1_eq.rhs, theta2:theta2_eq_elbow_up.rhs, theta3:theta3_eq_elbow_up.rhs, \n",
    "                        L1:l1, L2:l2, L3:l3, L4:l4, H1:h1, H3:h3, x:Px, y:Py, z:Pz})\n",
    "finalEq_eUp\n",
    "\n",
    "\n"
   ]
  },
  {
   "cell_type": "code",
   "execution_count": 426,
   "id": "a6b9518a",
   "metadata": {},
   "outputs": [
    {
     "name": "stdout",
     "output_type": "stream",
     "text": [
      "0.0661868784076580 -0.120339778923015 -0.990523919315132 0.876215908676647 0.481918749772156 0 0.477352048815764\n"
     ]
    }
   ],
   "source": [
    "r11 = finalEq_eUp.rhs[0]\n",
    "r12 = finalEq_eUp.rhs[1]\n",
    "r13 = finalEq_eUp.rhs[2]\n",
    "r21 = finalEq_eUp.rhs[4]\n",
    "r22 = finalEq_eUp.rhs[5]\n",
    "r23 = finalEq_eUp.rhs[6]\n",
    "r31 = finalEq_eUp.rhs[8]\n",
    "\n",
    "\n",
    "print(r11,r12,r13,r21,r22,r23,r31)"
   ]
  },
  {
   "cell_type": "code",
   "execution_count": 427,
   "id": "d6f7fdf6",
   "metadata": {},
   "outputs": [
    {
     "data": {
      "text/latex": [
       "$\\displaystyle \\theta_{1} = 1.06795311586704$"
      ],
      "text/plain": [
       "Eq(theta1, 1.06795311586704)"
      ]
     },
     "execution_count": 427,
     "metadata": {},
     "output_type": "execute_result"
    }
   ],
   "source": [
    "theta1_eq\n"
   ]
  },
  {
   "cell_type": "code",
   "execution_count": 428,
   "id": "11782af1",
   "metadata": {},
   "outputs": [
    {
     "data": {
      "text/latex": [
       "$\\displaystyle \\theta_{2} = 0.0457895323812636$"
      ],
      "text/plain": [
       "Eq(theta2, 0.0457895323812636)"
      ]
     },
     "execution_count": 428,
     "metadata": {},
     "output_type": "execute_result"
    }
   ],
   "source": [
    "theta2_eq_elbow_up"
   ]
  },
  {
   "cell_type": "code",
   "execution_count": 429,
   "id": "8128e54f",
   "metadata": {},
   "outputs": [
    {
     "data": {
      "text/latex": [
       "$\\displaystyle \\theta_{3} = 1.38723100091983 - \\pi$"
      ],
      "text/plain": [
       "Eq(theta3, 1.38723100091983 - pi)"
      ]
     },
     "execution_count": 429,
     "metadata": {},
     "output_type": "execute_result"
    }
   ],
   "source": [
    "theta3_eq_elbow_up"
   ]
  },
  {
   "cell_type": "code",
   "execution_count": 40,
   "id": "012d1ed3",
   "metadata": {},
   "outputs": [],
   "source": [
    "# ref: https://www.geometrictools.com/Documentation/EulerAngles.pdf\n",
    "\n",
    "def xyxEulerAngle(r11, r12, r13, r21, r22, r23, r31):\n",
    "\n",
    "    if (r11 < 1):\n",
    "        if (r11 > -1):\n",
    "            thetaX0 = atan2(r21, -r31) \n",
    "            thetaY = acos(r11) \n",
    "            thetaX1 = atan2(r12,r13)\n",
    "\n",
    "        else: # r11 = −1 \n",
    "            # Not a unique solution: thetaX1 − thetaX0 = atan2(−r12,r11) \n",
    "            thetaX0 = -atan2(-r23,r22);\n",
    "            thetaY = pi\n",
    "            thetaX1 = 0\n",
    "    \n",
    "    else: #r00 = 1 \n",
    "        #Not a unique solution: thetaX1 + thetaX0 = atan2(−r12,r11) \n",
    "        thetaX0 = atan2(-r23,r22)\n",
    "        thetaY = 0\n",
    "        thetaX1 = 0\n",
    "        \n",
    "    return thetaX0, thetaY, thetaX1"
   ]
  },
  {
   "cell_type": "code",
   "execution_count": 41,
   "id": "b74efc44",
   "metadata": {},
   "outputs": [
    {
     "ename": "TypeError",
     "evalue": "cannot determine truth value of Relational",
     "output_type": "error",
     "traceback": [
      "\u001b[1;31m---------------------------------------------------------------------------\u001b[0m",
      "\u001b[1;31mTypeError\u001b[0m                                 Traceback (most recent call last)",
      "\u001b[1;32m~\\AppData\\Local\\Temp/ipykernel_22220/1361427398.py\u001b[0m in \u001b[0;36m<module>\u001b[1;34m\u001b[0m\n\u001b[1;32m----> 1\u001b[1;33m \u001b[0mtheta4_up\u001b[0m\u001b[1;33m,\u001b[0m \u001b[0mtheta5_up\u001b[0m\u001b[1;33m,\u001b[0m \u001b[0mtheta6_up\u001b[0m \u001b[1;33m=\u001b[0m \u001b[0mxyxEulerAngle\u001b[0m\u001b[1;33m(\u001b[0m\u001b[0mr11\u001b[0m\u001b[1;33m,\u001b[0m \u001b[0mr12\u001b[0m\u001b[1;33m,\u001b[0m \u001b[0mr13\u001b[0m\u001b[1;33m,\u001b[0m \u001b[0mr21\u001b[0m\u001b[1;33m,\u001b[0m \u001b[0mr22\u001b[0m\u001b[1;33m,\u001b[0m \u001b[0mr23\u001b[0m\u001b[1;33m,\u001b[0m \u001b[0mr31\u001b[0m\u001b[1;33m)\u001b[0m\u001b[1;33m\u001b[0m\u001b[1;33m\u001b[0m\u001b[0m\n\u001b[0m",
      "\u001b[1;32m~\\AppData\\Local\\Temp/ipykernel_22220/1404881623.py\u001b[0m in \u001b[0;36mxyxEulerAngle\u001b[1;34m(r11, r12, r13, r21, r22, r23, r31)\u001b[0m\n\u001b[0;32m      3\u001b[0m \u001b[1;32mdef\u001b[0m \u001b[0mxyxEulerAngle\u001b[0m\u001b[1;33m(\u001b[0m\u001b[0mr11\u001b[0m\u001b[1;33m,\u001b[0m \u001b[0mr12\u001b[0m\u001b[1;33m,\u001b[0m \u001b[0mr13\u001b[0m\u001b[1;33m,\u001b[0m \u001b[0mr21\u001b[0m\u001b[1;33m,\u001b[0m \u001b[0mr22\u001b[0m\u001b[1;33m,\u001b[0m \u001b[0mr23\u001b[0m\u001b[1;33m,\u001b[0m \u001b[0mr31\u001b[0m\u001b[1;33m)\u001b[0m\u001b[1;33m:\u001b[0m\u001b[1;33m\u001b[0m\u001b[1;33m\u001b[0m\u001b[0m\n\u001b[0;32m      4\u001b[0m \u001b[1;33m\u001b[0m\u001b[0m\n\u001b[1;32m----> 5\u001b[1;33m     \u001b[1;32mif\u001b[0m \u001b[1;33m(\u001b[0m\u001b[0mr11\u001b[0m \u001b[1;33m<\u001b[0m \u001b[1;36m1\u001b[0m\u001b[1;33m)\u001b[0m\u001b[1;33m:\u001b[0m\u001b[1;33m\u001b[0m\u001b[1;33m\u001b[0m\u001b[0m\n\u001b[0m\u001b[0;32m      6\u001b[0m         \u001b[1;32mif\u001b[0m \u001b[1;33m(\u001b[0m\u001b[0mr11\u001b[0m \u001b[1;33m>\u001b[0m \u001b[1;33m-\u001b[0m\u001b[1;36m1\u001b[0m\u001b[1;33m)\u001b[0m\u001b[1;33m:\u001b[0m\u001b[1;33m\u001b[0m\u001b[1;33m\u001b[0m\u001b[0m\n\u001b[0;32m      7\u001b[0m             \u001b[0mthetaX0\u001b[0m \u001b[1;33m=\u001b[0m \u001b[0matan2\u001b[0m\u001b[1;33m(\u001b[0m\u001b[0mr21\u001b[0m\u001b[1;33m,\u001b[0m \u001b[1;33m-\u001b[0m\u001b[0mr31\u001b[0m\u001b[1;33m)\u001b[0m\u001b[1;33m\u001b[0m\u001b[1;33m\u001b[0m\u001b[0m\n",
      "\u001b[1;32m~\\AppData\\Local\\Programs\\Python\\Python39\\lib\\site-packages\\sympy\\core\\relational.py\u001b[0m in \u001b[0;36m__bool__\u001b[1;34m(self)\u001b[0m\n\u001b[0;32m    396\u001b[0m \u001b[1;33m\u001b[0m\u001b[0m\n\u001b[0;32m    397\u001b[0m     \u001b[1;32mdef\u001b[0m \u001b[0m__bool__\u001b[0m\u001b[1;33m(\u001b[0m\u001b[0mself\u001b[0m\u001b[1;33m)\u001b[0m\u001b[1;33m:\u001b[0m\u001b[1;33m\u001b[0m\u001b[1;33m\u001b[0m\u001b[0m\n\u001b[1;32m--> 398\u001b[1;33m         \u001b[1;32mraise\u001b[0m \u001b[0mTypeError\u001b[0m\u001b[1;33m(\u001b[0m\u001b[1;34m\"cannot determine truth value of Relational\"\u001b[0m\u001b[1;33m)\u001b[0m\u001b[1;33m\u001b[0m\u001b[1;33m\u001b[0m\u001b[0m\n\u001b[0m\u001b[0;32m    399\u001b[0m \u001b[1;33m\u001b[0m\u001b[0m\n\u001b[0;32m    400\u001b[0m     \u001b[1;32mdef\u001b[0m \u001b[0m_eval_as_set\u001b[0m\u001b[1;33m(\u001b[0m\u001b[0mself\u001b[0m\u001b[1;33m)\u001b[0m\u001b[1;33m:\u001b[0m\u001b[1;33m\u001b[0m\u001b[1;33m\u001b[0m\u001b[0m\n",
      "\u001b[1;31mTypeError\u001b[0m: cannot determine truth value of Relational"
     ]
    }
   ],
   "source": [
    "theta4_up, theta5_up, theta6_up = xyxEulerAngle(r11, r12, r13, r21, r22, r23, r31)"
   ]
  },
  {
   "cell_type": "code",
   "execution_count": null,
   "id": "d3c4d839",
   "metadata": {},
   "outputs": [],
   "source": [
    "theta4_eq_elbow_up = Eq(theta4, atan2(r21,-r31))\n",
    "\n",
    "theta4_eq_elbow_up\n"
   ]
  },
  {
   "cell_type": "code",
   "execution_count": 434,
   "id": "2e461350",
   "metadata": {},
   "outputs": [
    {
     "data": {
      "text/latex": [
       "$\\displaystyle \\theta_{5} = 1.50456102870112$"
      ],
      "text/plain": [
       "Eq(theta5, 1.50456102870112)"
      ]
     },
     "execution_count": 434,
     "metadata": {},
     "output_type": "execute_result"
    }
   ],
   "source": [
    "theta5_eq_elbow_up = Eq(theta5, theta5_up)\n",
    "theta5_eq_elbow_up"
   ]
  },
  {
   "cell_type": "code",
   "execution_count": 435,
   "id": "770e8d9f",
   "metadata": {},
   "outputs": [
    {
     "data": {
      "text/latex": [
       "$\\displaystyle \\theta_{6} = 0.120898537391301 - \\pi$"
      ],
      "text/plain": [
       "Eq(theta6, 0.120898537391301 - pi)"
      ]
     },
     "execution_count": 435,
     "metadata": {},
     "output_type": "execute_result"
    }
   ],
   "source": [
    "theta6_eq_elbow_up = Eq(theta6, theta6_up)\n",
    "theta6_eq_elbow_up"
   ]
  },
  {
   "cell_type": "code",
   "execution_count": 436,
   "id": "a82723b3",
   "metadata": {},
   "outputs": [
    {
     "data": {
      "text/latex": [
       "$\\displaystyle \\left[\\begin{matrix}\\cos{\\left(\\theta_{5} \\right)} & \\sin{\\left(\\theta_{5} \\right)} \\sin{\\left(\\theta_{6} \\right)} & \\sin{\\left(\\theta_{5} \\right)} \\cos{\\left(\\theta_{6} \\right)} & 435.0 \\theta_{6} \\cos{\\left(\\theta_{5} \\right)} - 435.0 \\sin{\\left(\\theta_{5} \\right)} - 900.0 \\cos{\\left(\\theta_{5} \\right)} + 900.0\\\\\\sin{\\left(\\theta_{4} \\right)} \\sin{\\left(\\theta_{5} \\right)} & - \\sin{\\left(\\theta_{4} \\right)} \\sin{\\left(\\theta_{6} \\right)} \\cos{\\left(\\theta_{5} \\right)} + \\cos{\\left(\\theta_{4} \\right)} \\cos{\\left(\\theta_{6} \\right)} & - \\sin{\\left(\\theta_{4} \\right)} \\cos{\\left(\\theta_{5} \\right)} \\cos{\\left(\\theta_{6} \\right)} - \\sin{\\left(\\theta_{6} \\right)} \\cos{\\left(\\theta_{4} \\right)} & 435.0 \\theta_{6} \\sin{\\left(\\theta_{4} \\right)} \\sin{\\left(\\theta_{5} \\right)} - \\left(- 900.0 \\sin{\\left(\\theta_{5} \\right)} + 435.0 \\cos{\\left(\\theta_{5} \\right)} - 435.0\\right) \\sin{\\left(\\theta_{4} \\right)} + 435.0 \\sin{\\left(\\theta_{4} \\right)}\\\\- \\sin{\\left(\\theta_{5} \\right)} \\cos{\\left(\\theta_{4} \\right)} & \\sin{\\left(\\theta_{4} \\right)} \\cos{\\left(\\theta_{6} \\right)} + \\sin{\\left(\\theta_{6} \\right)} \\cos{\\left(\\theta_{4} \\right)} \\cos{\\left(\\theta_{5} \\right)} & - \\sin{\\left(\\theta_{4} \\right)} \\sin{\\left(\\theta_{6} \\right)} + \\cos{\\left(\\theta_{4} \\right)} \\cos{\\left(\\theta_{5} \\right)} \\cos{\\left(\\theta_{6} \\right)} & - 435.0 \\theta_{6} \\sin{\\left(\\theta_{5} \\right)} \\cos{\\left(\\theta_{4} \\right)} + \\left(- 900.0 \\sin{\\left(\\theta_{5} \\right)} + 435.0 \\cos{\\left(\\theta_{5} \\right)} - 435.0\\right) \\cos{\\left(\\theta_{4} \\right)} + 435.0 \\cos{\\left(\\theta_{4} \\right)} - 435.0\\\\0 & 0 & 0 & 1\\end{matrix}\\right] = \\left[\\begin{matrix}-0.481381042808477 & 0.875238259651776 & 0.047225845321756 & -20.6124583064271\\\\0.876215908676647 & 0.481918749772156 & 0 & -858.691590503114\\\\-0.0227590203343939 & 0.0413800369716252 & -0.998884237303626 & -75.6828986944099\\\\0 & 0 & 0 & 1\\end{matrix}\\right]$"
      ],
      "text/plain": [
       "Eq(Matrix([\n",
       "[             cos(theta5),                                        sin(theta5)*sin(theta6),                                        sin(theta5)*cos(theta6),                                                         435.0*theta6*cos(theta5) - 435.0*sin(theta5) - 900.0*cos(theta5) + 900.0],\n",
       "[ sin(theta4)*sin(theta5), -sin(theta4)*sin(theta6)*cos(theta5) + cos(theta4)*cos(theta6), -sin(theta4)*cos(theta5)*cos(theta6) - sin(theta6)*cos(theta4),          435.0*theta6*sin(theta4)*sin(theta5) - (-900.0*sin(theta5) + 435.0*cos(theta5) - 435.0)*sin(theta4) + 435.0*sin(theta4)],\n",
       "[-sin(theta5)*cos(theta4),  sin(theta4)*cos(theta6) + sin(theta6)*cos(theta4)*cos(theta5), -sin(theta4)*sin(theta6) + cos(theta4)*cos(theta5)*cos(theta6), -435.0*theta6*sin(theta5)*cos(theta4) + (-900.0*sin(theta5) + 435.0*cos(theta5) - 435.0)*cos(theta4) + 435.0*cos(theta4) - 435.0],\n",
       "[                       0,                                                              0,                                                              0,                                                                                                                                1]]), Matrix([\n",
       "[ -0.481381042808477,  0.875238259651776,  0.047225845321756, -20.6124583064271],\n",
       "[  0.876215908676647,  0.481918749772156,                  0, -858.691590503114],\n",
       "[-0.0227590203343939, 0.0413800369716252, -0.998884237303626, -75.6828986944099],\n",
       "[                  0,                  0,                  0,                 1]]))"
      ]
     },
     "execution_count": 436,
     "metadata": {},
     "output_type": "execute_result"
    }
   ],
   "source": [
    "### ELBOW DOWN ###\n",
    "finalEq_eDown = finalEq.subs({theta1:theta1_eq.rhs, theta2:theta2_eq_elbow_down.rhs, theta3:theta3_eq_elbow_down.rhs, \n",
    "                        L1:l1, L2:l2, L3:l3, L4:l4, H1:h1, H3:h3, x:Px, y:Py, z:Pz})\n",
    "finalEq_eDown\n"
   ]
  },
  {
   "cell_type": "code",
   "execution_count": 437,
   "id": "7dcf3b90",
   "metadata": {},
   "outputs": [
    {
     "name": "stdout",
     "output_type": "stream",
     "text": [
      "-0.481381042808477 0.875238259651776 0.0472258453217560 0.876215908676647 0.481918749772156 0 -0.0227590203343939\n"
     ]
    }
   ],
   "source": [
    "r11 = finalEq_eDown.rhs[0]\n",
    "r12 = finalEq_eDown.rhs[1]\n",
    "r13 = finalEq_eDown.rhs[2]\n",
    "r21 = finalEq_eDown.rhs[4]\n",
    "r22 = finalEq_eDown.rhs[5]\n",
    "r23 = finalEq_eDown.rhs[6]\n",
    "r31 = finalEq_eDown.rhs[8]\n",
    "\n",
    "\n",
    "print(r11,r12,r13,r21,r22,r23,r31)"
   ]
  },
  {
   "cell_type": "code",
   "execution_count": 438,
   "id": "2d2c71a8",
   "metadata": {},
   "outputs": [
    {
     "data": {
      "text/latex": [
       "$\\displaystyle \\theta_{1} = 1.06795311586704$"
      ],
      "text/plain": [
       "Eq(theta1, 1.06795311586704)"
      ]
     },
     "execution_count": 438,
     "metadata": {},
     "output_type": "execute_result"
    }
   ],
   "source": [
    "theta1_eq"
   ]
  },
  {
   "cell_type": "code",
   "execution_count": 439,
   "id": "212b7299",
   "metadata": {},
   "outputs": [
    {
     "data": {
      "text/latex": [
       "$\\displaystyle \\theta_{2} = -1.54083577144971$"
      ],
      "text/plain": [
       "Eq(theta2, -1.54083577144971)"
      ]
     },
     "execution_count": 439,
     "metadata": {},
     "output_type": "execute_result"
    }
   ],
   "source": [
    "theta2_eq_elbow_down"
   ]
  },
  {
   "cell_type": "code",
   "execution_count": 440,
   "id": "34fc168a",
   "metadata": {},
   "outputs": [
    {
     "data": {
      "text/latex": [
       "$\\displaystyle \\theta_{3} = -1.55351346469672 + \\pi$"
      ],
      "text/plain": [
       "Eq(theta3, -1.55351346469672 + pi)"
      ]
     },
     "execution_count": 440,
     "metadata": {},
     "output_type": "execute_result"
    }
   ],
   "source": [
    "theta3_eq_elbow_down"
   ]
  },
  {
   "cell_type": "code",
   "execution_count": 441,
   "id": "424a6813",
   "metadata": {},
   "outputs": [],
   "source": [
    "theta4_down, theta5_down, theta6_down = xyxEulerAngle(r11, r12, r13, r21, r22, r23, r31)"
   ]
  },
  {
   "cell_type": "code",
   "execution_count": 442,
   "id": "3226a2a9",
   "metadata": {},
   "outputs": [
    {
     "data": {
      "text/latex": [
       "$\\displaystyle \\theta_{4} = 1.54482795075779$"
      ],
      "text/plain": [
       "Eq(theta4, 1.54482795075779)"
      ]
     },
     "execution_count": 442,
     "metadata": {},
     "output_type": "execute_result"
    }
   ],
   "source": [
    "theta4_eq_elbow_down = Eq(theta4, theta4_down)\n",
    "\n",
    "theta4_eq_elbow_down\n",
    "\n"
   ]
  },
  {
   "cell_type": "code",
   "execution_count": 443,
   "id": "2c269eef",
   "metadata": {},
   "outputs": [
    {
     "data": {
      "text/latex": [
       "$\\displaystyle \\theta_{5} = 2.07302597172864$"
      ],
      "text/plain": [
       "Eq(theta5, 2.07302597172864)"
      ]
     },
     "execution_count": 443,
     "metadata": {},
     "output_type": "execute_result"
    }
   ],
   "source": [
    "theta5_eq_elbow_down = Eq(theta5, theta5_down)\n",
    "theta5_eq_elbow_down"
   ]
  },
  {
   "cell_type": "code",
   "execution_count": 444,
   "id": "10619c69",
   "metadata": {},
   "outputs": [
    {
     "data": {
      "text/latex": [
       "$\\displaystyle \\theta_{6} = 1.51689089812006$"
      ],
      "text/plain": [
       "Eq(theta6, 1.51689089812006)"
      ]
     },
     "execution_count": 444,
     "metadata": {},
     "output_type": "execute_result"
    }
   ],
   "source": [
    "theta6_eq_elbow_down = Eq(theta6, theta6_down)\n",
    "theta6_eq_elbow_down"
   ]
  },
  {
   "cell_type": "code",
   "execution_count": 445,
   "id": "a2a143c1",
   "metadata": {},
   "outputs": [
    {
     "data": {
      "text/latex": [
       "$\\displaystyle 1.51689089812006$"
      ],
      "text/plain": [
       "1.51689089812006"
      ]
     },
     "execution_count": 445,
     "metadata": {},
     "output_type": "execute_result"
    }
   ],
   "source": [
    "theta6_down"
   ]
  }
 ],
 "metadata": {
  "kernelspec": {
   "display_name": "Python 3 (ipykernel)",
   "language": "python",
   "name": "python3"
  },
  "language_info": {
   "codemirror_mode": {
    "name": "ipython",
    "version": 3
   },
   "file_extension": ".py",
   "mimetype": "text/x-python",
   "name": "python",
   "nbconvert_exporter": "python",
   "pygments_lexer": "ipython3",
   "version": "3.9.8"
  }
 },
 "nbformat": 4,
 "nbformat_minor": 5
}
